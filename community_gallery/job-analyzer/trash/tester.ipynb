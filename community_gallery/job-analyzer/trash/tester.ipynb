{
 "cells": [
  {
   "cell_type": "code",
   "execution_count": 88,
   "id": "3061b6f6-7556-4bf5-97c6-d7d1c3f45136",
   "metadata": {},
   "outputs": [],
   "source": [
    "import numpy as np\n",
    "import pandas as pd\n",
    "import os\n",
    "from datetime import datetime\n",
    "import plotly.express as px"
   ]
  },
  {
   "cell_type": "code",
   "execution_count": 2,
   "id": "5f08965d-2268-4784-8faf-feb2dd2f5b61",
   "metadata": {},
   "outputs": [],
   "source": [
    "data = pd.read_csv(\"../data/job_descriptions.csv\")\n",
    "# Convert it into datetime object\n",
    "data['Job Posting Date'] = pd.to_datetime(data['Job Posting Date'], format = \"%Y-%M-%d\")"
   ]
  },
  {
   "cell_type": "markdown",
   "id": "44f76033-06f9-44d7-832f-b1ef16524301",
   "metadata": {},
   "source": [
    "## Ideas to implement\n",
    "- We can implement a *slider* for\n",
    "    - *Salary Range*\n",
    "    - *Company Size*\n",
    "- Use *select box* to determine  \n",
    "    - type of role *Work Type*\n",
    "    - location *Country*\n",
    "- Plot the role distribution according to the following information\n",
    "\n",
    "### Information Required\n",
    "- Country\n",
    "- Salary Range\n",
    "- Work Type\n",
    "- Company Size\n",
    "- Job Title\n",
    "- Company name\n",
    "- Job Posting Date\n"
   ]
  },
  {
   "cell_type": "code",
   "execution_count": 3,
   "id": "79bfc52b-41e8-4957-ab8a-0a256ed82afe",
   "metadata": {},
   "outputs": [],
   "source": [
    "\n",
    "desired_columns = ['Salary Range', 'Country', 'Work Type', \n",
    "                  'Company Size', 'Job Posting Date', 'Job Title', \n",
    "                  'Company']\n",
    "filtered_df = data[desired_columns]\n",
    "filtered_df = filtered_df[(filtered_df['Job Posting Date'].dt.year == 2023)]\n"
   ]
  },
  {
   "cell_type": "code",
   "execution_count": 4,
   "id": "c653ff13-4f98-4e49-9fbb-b3114419fe6e",
   "metadata": {},
   "outputs": [],
   "source": [
    "def get_max(s: str):\n",
    "    elements = s.split('-')\n",
    "    return int(elements[1][1:-1])\n",
    "\n",
    "def get_min(s: str):\n",
    "    elements = s.split('-')\n",
    "    return int(elements[0][1:-1])"
   ]
  },
  {
   "cell_type": "code",
   "execution_count": 5,
   "id": "f8a39de8-3679-47ff-82f9-ee7a29a5f711",
   "metadata": {},
   "outputs": [],
   "source": [
    "filtered_df['Max Salary'] = filtered_df['Salary Range'].apply(get_max)\n",
    "filtered_df['Min Salary'] = filtered_df['Salary Range'].apply(get_min)\n",
    "filtered_df.drop(\"Salary Range\", inplace=True, axis = 1)\n",
    "filtered_df.drop(\"Job Posting Date\", inplace=True, axis=1)\n",
    "filtered_df = filtered_df.head(16000)"
   ]
  },
  {
   "cell_type": "code",
   "execution_count": 13,
   "id": "47120ff3-0895-421a-b52c-1ec8738c6900",
   "metadata": {},
   "outputs": [
    {
     "data": {
      "text/plain": [
       "array(['Hess', 'Adani Ports and Special Economic Zone', 'FedEx',\n",
       "       \"McDonald's\", 'Bayer AG', 'EasyJet', 'Otis Worldwide',\n",
       "       'HCL Technologies', 'Xcel Energy', 'Deutsche Post DHL Group',\n",
       "       'Bodycote', 'Old Republic International',\n",
       "       'United Airlines Holdings', 'Regions Financial',\n",
       "       'Wyndham Hotels & Resorts, Inc.', \"Divi's Laboratories\",\n",
       "       'Tata Consumer Products', 'Fannie Mae', 'News Corp.', 'Arconic',\n",
       "       'Philip Morris International', 'Enterprise Products Partners',\n",
       "       'Carrier Global', 'UnitedHealth Group', 'UGI', 'Disney+',\n",
       "       'Brighthouse Financial', 'Deutsche Pfandbriefbank AG',\n",
       "       'Hindalco Industries', 'Lincoln National', 'Stockland Corporation',\n",
       "       'Altria Group', 'Continental AG', 'Tesla', 'WESCO International',\n",
       "       'Unilever', 'Revlon, Inc.', 'Constellation Brands', 'ODP',\n",
       "       'Farmers Insurance Exchange', 'Croda International', 'Textron',\n",
       "       'American Electric Power', 'Peter Kiewit Sons', 'General Mills',\n",
       "       'PNC Financial Services Group', 'SAP SE',\n",
       "       'IBM (International Business Machines Corporation)',\n",
       "       'Power Grid Corporation of India', 'Consolidated Edison',\n",
       "       'Northrop Grumman', 'SF Express', 'Huntsman', 'Lendlease Group',\n",
       "       'Asbury Automotive Group', 'Quanta Services',\n",
       "       'Fiat Chrysler Automobiles N.V.', 'CDW', 'Tencent Holdings',\n",
       "       'Halma', 'Meta Platforms', 'TAG Immobilien AG', 'Block',\n",
       "       'Linde plc', 'MetLife', 'Steel Dynamics', 'Jubilant Foodworks',\n",
       "       'Continental Resources', 'JetBlue Airways', 'Adani Green Energy',\n",
       "       'Deutsche Bahn AG', 'Reliance Steel & Aluminum',\n",
       "       'Spirit Airlines, Inc.', 'Go-Ahead Group', 'CSX',\n",
       "       'Interpublic Group', 'TPG Telecom', 'Glencore', 'General Electric',\n",
       "       'Indian Bank', 'Ovintiv', 'Hindustan Zinc', 'Skechers U.S.A.',\n",
       "       'Deutsche Lufthansa AG', 'TD Synnex', 'Standard Chartered',\n",
       "       'Aramark', 'DXC Technology', 'Bajaj Electricals',\n",
       "       'Constellation Energy', 'Olin', 'Marathon Oil',\n",
       "       'Raymond James Financial', 'Hero MotoCorp', 'Truist Financial',\n",
       "       'Pfizer Inc.', 'Genuine Parts', 'CRH (China Resources Holdings)',\n",
       "       'Opendoor Technologies', 'Lockheed Martin', '3i Group',\n",
       "       'Intercontinental Exchange', 'Marsh & McLennan',\n",
       "       'Brambles Limited', 'Auto-Owners Insurance', 'Qurate Retail',\n",
       "       'Jones Lang LaSalle', 'Renishaw',\n",
       "       'Knight-Swift Transportation Holdings',\n",
       "       'Pioneer Natural Resources', 'Torrent Pharmaceuticals',\n",
       "       'Western Union Company', 'Haier Group', 'Lennar',\n",
       "       'JD Sports Fashion', 'WHSmith', 'CIMIC Group', 'Evolution Mining',\n",
       "       'Leidos Holdings', 'Union Pacific', 'Westlake', 'Ryder System',\n",
       "       'Owens & Minor', 'Adelaide Brighton', 'Avast',\n",
       "       'Lloyds Banking Group', 'United States Steel',\n",
       "       'Apollo Global Management', 'Tata Steel', 'Jackson Financial',\n",
       "       'Lumen Technologies', 'Murphy USA', 'Quest Diagnostics',\n",
       "       'JSW Steel', 'Campbell Soup', 'Paramount Global',\n",
       "       'Royal Dutch Shell', 'Legal & General Group', 'Aurobindo Pharma',\n",
       "       'ITC Limited', 'Mahindra & Mahindra Financial Services',\n",
       "       'Wells Fargo', 'WestRock', 'British American Tobacco',\n",
       "       'Foot Locker', 'American Express', 'Expedia Group',\n",
       "       'International Paper', 'PulteGroup', 'Charter Communications',\n",
       "       'KLA', 'Carnival Corporation & plc', 'Infosys', 'CarMax',\n",
       "       'Albemarle', 'Spotify Technology S.A.', 'Procter & Gamble',\n",
       "       'Advanced Micro Devices', 'Agricultural Bank of China',\n",
       "       'Lam Research', 'Fidelity Investments, Inc.', 'Commerzbank AG',\n",
       "       'Persimmon plc', 'Berkeley Group Holdings', 'Nordstrom',\n",
       "       'Hargreaves Lansdown', 'APA', 'Edison International',\n",
       "       'HeidelbergCement AG', 'National Australia Bank (NAB)',\n",
       "       'Verizon Communications', 'NVR', \"Dick's Sporting Goods\",\n",
       "       'Dollar General', 'Goodman Group', 'United Breweries (UB)',\n",
       "       'Intuit', 'The Walt Disney Company', 'Prudential plc',\n",
       "       'Graphic Packaging Holding', 'Motorola Solutions',\n",
       "       'Capital One Financial', 'Oracle', 'Bajaj Finance',\n",
       "       'Anglo American plc', 'Suning.com', 'Admiral Group', 'NIO Inc.',\n",
       "       'Abbott Laboratories', 'ThyssenKrupp AG', 'Dominion Energy',\n",
       "       'Ford Motor', \"Dr. Reddy's Laboratories\", 'Analog Devices',\n",
       "       'Mondelez International', 'Caesars Entertainment', 'Bunzl',\n",
       "       'Albertsons', 'Qualcomm', 'Coca-Cola', 'Sanmina',\n",
       "       'CommScope Holding', 'Centrica',\n",
       "       'New Oriental Education & Technology Group', 'Sky plc',\n",
       "       'DTE Energy', 'Vonovia SE', 'TravelCenters of America',\n",
       "       'Booking Holdings', 'Paccar', 'CenterPoint Energy', 'Eli Lilly',\n",
       "       'Amgen', 'Shriram Transport Finance Company', 'B&M', 'Nationwide',\n",
       "       'Zee Entertainment Enterprises', 'Humana', 'Siemens AG', \"Macy's\",\n",
       "       'Rentokil Initial', 'EnLink Midstream', 'HCA Healthcare',\n",
       "       'Bristol-Myers Squibb', 'Comcast', 'Mutual of Omaha Insurance',\n",
       "       'Daimler AG (now known as Mercedes-Benz AG)', 'Altice USA',\n",
       "       'Cipla', 'MGM Resorts International', 'Regeneron Pharmaceuticals',\n",
       "       'American International Group', 'China COSCO Shipping Corporation',\n",
       "       'Western & Southern Financial Group', 'AutoZone', 'AstraZeneca',\n",
       "       'Community Health Systems', 'Rio Tinto', 'Xiaomi Corporation',\n",
       "       'Netflix', 'Apple', 'Amazon.com', 'Centene', 'Aristocrat Leisure',\n",
       "       'Etsy, Inc.', 'SSE plc', 'Mphasis', 'Ally Financial', 'Wayfair',\n",
       "       'BHEL (Bharat Heavy Electricals Limited)',\n",
       "       'Hartford Financial Services Group', 'Alumina Limited',\n",
       "       'Tencent Music Entertainment Group', 'Muthoot Finance',\n",
       "       'Micron Technology', \"St. James's Place plc\", 'WPP plc',\n",
       "       'Ulta Beauty', 'Huntington Bancshares', 'The Boeing Company',\n",
       "       'Nvidia', 'Ford Motor Company',\n",
       "       'Hindustan Petroleum Corporation Limited (HPCL)', 'Ambuja Cements',\n",
       "       'Santos Limited', 'Workday, Inc.', 'Qantas Airways',\n",
       "       'Taylor Morrison Home', 'Erie Insurance Group', 'Kinder Morgan',\n",
       "       'Conagra Brands', 'E.ON SE', 'AutoNation', 'Icahn Enterprises',\n",
       "       'Compass Group', 'Sage Group', 'Best Buy', 'Great Wall Motors',\n",
       "       'Keurig Dr Pepper Inc.', 'Sysco', 'Westpac Banking Corporation',\n",
       "       'Stryker', 'China Construction Bank',\n",
       "       'Fidelity National Financial', 'BASF SE', 'Fifth Third Bancorp',\n",
       "       'Mosaic', 'Baidu', 'Petrofac', 'MTU Aero Engines AG', 'Gap',\n",
       "       'China National Chemical Corporation (ChemChina)', 'Symrise AG',\n",
       "       'Hindustan Unilever Limited (HUL)', 'Adidas AG', 'Western Digital',\n",
       "       'Boeing', 'Ross Stores', 'Beiersdorf AG', 'Fuchs Petrolub SE',\n",
       "       'Experian', 'W.W. Grainger', 'Seaboard', 'Sinopharm Group',\n",
       "       'Science Applications International', 'Honeywell International',\n",
       "       'Cholamandalam Investment and Finance Company', 'Tenet Healthcare',\n",
       "       'AECOM', 'Huawei Technologies', 'Salesforce',\n",
       "       'Deutsche Telekom AG', 'Kellogg', 'Intel',\n",
       "       'TD Ameritrade Holding Corporation', 'Wipro Limited',\n",
       "       'InterContinental Hotels Group', 'BAE Systems', 'DaVita', '3M',\n",
       "       'Sempra', 'Oil Search', 'Barclays',\n",
       "       'International Flavors & Fragrances', 'Maruti Suzuki India',\n",
       "       'Sydney Airport Holdings', 'General Dynamics',\n",
       "       'Hyatt Hotels Corporation', 'Target', 'CMS Energy',\n",
       "       'Charles Schwab', 'Airtel Africa', 'Rockwell Automation',\n",
       "       'Kotak Mahindra Bank', 'GlaxoSmithKline', 'Carvana', 'BHP Group',\n",
       "       'Mindtree Limited', 'Starbucks', 'Costco Wholesale',\n",
       "       'SVB Financial Group', 'Johnson Controls International plc',\n",
       "       'BT Group', 'Morgan Stanley', 'Alaska Air Group',\n",
       "       'Gilead Sciences', 'Woolworths Group', 'McKesson',\n",
       "       \"Casey's General Stores\", 'ABM Industries',\n",
       "       'Facebook, Inc. (now Meta Platforms, Inc.)', 'KION Group AG',\n",
       "       'Graybar Electric', 'Telstra Corporation',\n",
       "       'Reinsurance Group of America', 'BMW Group', 'UFP Industries',\n",
       "       'NTPC Limited', 'Toll Brothers', 'Aurizon Holdings',\n",
       "       'V-Guard Industries', 'Harley-Davidson, Inc.', 'BYD Company',\n",
       "       'Melrose Industries', 'Woodside Petroleum', 'Assurant',\n",
       "       'Workspace Group', 'State Farm Insurance', 'BorgWarner',\n",
       "       'Northwestern Mutual', 'Liberty Media', \"Kohl's\",\n",
       "       'Ramsay Health Care', 'Booz Allen Hamilton Holding',\n",
       "       'Alibaba Group', 'China Shenhua Energy', 'Archer Daniels Midland',\n",
       "       'Raytheon Technologies', 'The Kraft Heinz Company',\n",
       "       'First American Financial', 'Bharti Airtel', 'Exelon', 'ARKO',\n",
       "       'Nike', 'Avnet', 'Marriott International', 'Owens Corning',\n",
       "       'Nestle India', 'Sun TV Network', 'AT&T', 'Everbright Securities',\n",
       "       'Cheniere Energy', 'NextEra Energy', 'Universal Health Services',\n",
       "       'Alcoa', 'US Foods Holding', 'Royal Mail', 'Molson Coors Beverage',\n",
       "       'Exxon Mobil', 'Par Pacific Holdings', 'Home Depot',\n",
       "       'Bayerische Motoren Werke AG (BMW)', 'Visa', 'Tech Mahindra',\n",
       "       'Ashtead Group', 'Voltas Limited', 'Tractor Supply Company',\n",
       "       'Ping An Insurance', 'Marathon Petroleum', 'Halliburton',\n",
       "       'L3Harris Technologies', 'China Telecom', \"BJ's Wholesale Club\",\n",
       "       'Allstate', 'FirstEnergy', 'Insight Enterprises',\n",
       "       'BlueScope Steel', 'KeyCorp', 'Bajaj Finserv',\n",
       "       'Henkel AG & Co. KGaA', 'M&T Bank', 'Waste Management',\n",
       "       'Tata Power', 'The Clorox Company',\n",
       "       'Fidelity National Information Services',\n",
       "       'New York Life Insurance', 'Chesapeake Energy',\n",
       "       'Beacon Roofing Supply', \"O'Reilly Automotive\", 'JD.com',\n",
       "       'Prudential Financial', 'Aditya Birla Capital', 'Loews',\n",
       "       'Celanese', 'JPMorgan Chase', 'Fresenius SE & Co. KGaA',\n",
       "       'Siemens India', 'The Goldman Sachs Group, Inc.',\n",
       "       'Diamondback Energy', 'Kainos Group', 'Lyft, Inc.', 'PVH',\n",
       "       'The Vanguard Group, Inc.', 'Next plc',\n",
       "       'Fresenius Medical Care AG & Co. KGaA', 'Sonoco Products',\n",
       "       'Applied Materials', 'EOG Resources', 'Infineon Technologies AG',\n",
       "       'Corning', 'CHS', 'Automatic Data Processing', 'Baker Hughes',\n",
       "       'Landstar System', 'Britannia Industries',\n",
       "       'China Pacific Insurance', 'Lupin Limited', 'StoneX Group',\n",
       "       'Industrial and Commercial Bank of China (ICBC)',\n",
       "       'Deutsche Wohnen SE', 'J.M. Smucker', 'Kingfisher plc',\n",
       "       'Suncorp Group', 'Fortune Brands Innovations',\n",
       "       'L&T Finance Holdings', 'Drax Group', \"Dunkin'Brands Group, Inc.\",\n",
       "       'China Mobile', 'Playtech', 'Weir Group',\n",
       "       'Avenue Supermarts (DMart)', 'NRG Energy', 'Viatris',\n",
       "       'Southwest Airlines', 'EMCOR Group', 'Coal India Limited',\n",
       "       'Kyndryl Holdings', 'Discover Financial Services', 'Petronet LNG',\n",
       "       'Spirax-Sarco Engineering', 'RWE AG', 'Ingredion', 'Qube Holdings',\n",
       "       'MRF Limited', 'Pfizer', 'Jacobs Solutions', 'Mastercard',\n",
       "       'Hershey', 'VMware', 'Page Industries', 'Tata Communications',\n",
       "       'Southwestern Energy', 'Performance Food Group', 'Smith & Nephew',\n",
       "       'ManpowerGroup', 'Blackstone', 'Clorox Company', 'Metro AG',\n",
       "       'Dana', 'Progressive', 'China Vanke',\n",
       "       'HSBC (Hongkong and Shanghai Banking Corporation)', 'Zoetis',\n",
       "       'AbbVie', 'United Services Automobile Assn.', 'Tyson Foods',\n",
       "       'Evonik Industries AG', 'Arrow Electronics',\n",
       "       'American Airlines Group', 'Nucor', 'Bosch Limited', 'Informa',\n",
       "       'Broadcom', 'Sonic Healthcare', 'KKR', 'Glenmark Pharmaceuticals',\n",
       "       'Segro', 'Colgate-Palmolive', 'Dell Technologies',\n",
       "       'State Bank of India (SBI)', 'PBF Energy',\n",
       "       'Vertex Pharmaceuticals', 'Aviva', 'Larsen & Toubro (L&T)',\n",
       "       'Devon Energy', 'Tesco', 'Mirvac Group',\n",
       "       'Live Nation Entertainment', 'The Home Depot, Inc.', 'Oneok',\n",
       "       'China Eastern Airlines', 'United Technologies Corporation',\n",
       "       'Seek Limited', 'Hormel Foods', 'Burlington Stores',\n",
       "       'Morrison Supermarkets', 'Genworth Financial', 'Global Payments',\n",
       "       'Hochschild Mining',\n",
       "       'Wirecard AG (Now defunct, due to bankruptcy)', 'Eastman Chemical',\n",
       "       'The Hershey Company', 'Wacker Chemie AG', 'Dixons Carphone',\n",
       "       'Bed Bath & Beyond', 'Intertek Group', 'State Street',\n",
       "       'Munich Re Group', 'HDFC Asset Management Company',\n",
       "       'NGL Energy Partners', 'Macquarie Group', 'PPL',\n",
       "       'Texas Instruments', 'D.R. Horton', 'Exxon Mobil Corporation',\n",
       "       'AGCO', 'Auto Trader Group', 'U.S. Bancorp',\n",
       "       'CNOOC (China National Offshore Oil Corporation)', 'Entergy',\n",
       "       'Metro Bank', 'General Motors', 'Eversource Energy',\n",
       "       'International Business Machines', 'Volkswagen Group',\n",
       "       'Boston Scientific', 'Crown Holdings', 'NetEase',\n",
       "       'Norfolk Southern', 'Coty Inc.', 'Bath & Body Works',\n",
       "       'Insurance Australia Group (IAG)', 'Bajaj Auto', 'NMDC Limited',\n",
       "       'TJX', 'China Evergrande Group', \"Lowe's\", 'Fiserv',\n",
       "       'Huntington Ingalls Industries', 'Equitable Holdings', 'Alphabet',\n",
       "       'Walmart', 'C.H. Robinson Worldwide', 'Equinix', 'Kimberly-Clark',\n",
       "       'Norwegian Cruise Line Holdings Ltd.', 'Associated British Foods',\n",
       "       'Molina Healthcare', 'Coupang', 'Arthur J. Gallagher',\n",
       "       'HF Sinclair', 'Delta Air Lines', 'Whitehaven Coal',\n",
       "       'Expeditors International of Washington', 'Reynolds American Inc.',\n",
       "       'Energy Transfer', 'Rank Group', 'Southern', 'W.R. Berkley',\n",
       "       'Darden Restaurants', 'TIAA', 'DISH Network', 'Travelers',\n",
       "       'Johnson & Johnson', 'GAIL (India) Limited', 'Goldman Sachs Group',\n",
       "       'WEC Energy Group', 'Transurban Group', 'Escorts Limited',\n",
       "       'Boise Cascade', 'AMP Limited', 'ProSiebenSat.1 Media SE',\n",
       "       'PPG Industries', 'Dollar Tree', 'Principal Financial',\n",
       "       'Tullow Oil', 'UPL Limited', 'PayPal Holdings',\n",
       "       'London Stock Exchange Group', 'Marico Limited', 'Moderna',\n",
       "       'BlackRock', 'Weyerhaeuser', 'Magellan Financial Group',\n",
       "       'Square, Inc.', 'Cintas', 'UltraTech Cement', 'Iluka Resources',\n",
       "       'Eaton Corporation plc', 'Plains GP Holdings', 'HP',\n",
       "       'Whitbread plc', 'Berger Paints India Limited', 'Grafton Group',\n",
       "       'Yum China Holdings',\n",
       "       'Deutsche Annington Immobilien SE (Now Vonovia SE)',\n",
       "       'Williams-Sonoma', 'Pacific Life',\n",
       "       'Dr. Pepper Snapple Group, Inc.',\n",
       "       'Guardian Life Ins. Co. of America', 'Indian Oil Corporation',\n",
       "       'Sartorius AG', 'Avantor', 'Midea Group',\n",
       "       'Hewlett Packard Enterprise', 'Bank of New York Mellon', 'Markel',\n",
       "       'Whirlpool', 'Adani Enterprises', 'China Southern Airlines',\n",
       "       'Adobe', 'Cigna Group', 'CSL Limited', 'Diageo',\n",
       "       'Becton Dickinson', 'Aflac', 'Newell Brands', 'Bank of America',\n",
       "       'Northern Star Resources', 'J.B. Hunt Transport Services',\n",
       "       'Commonwealth Bank of Australia', 'LPL Financial Holdings',\n",
       "       'Brewin Dolphin', 'Omnicom Group',\n",
       "       'Godrej Consumer Products Limited', 'A-Mark Precious Metals',\n",
       "       'China Unicom', 'CRRC Corporation',\n",
       "       'Ceconomy AG (Formerly Metro AG)', 'Hikma Pharmaceuticals',\n",
       "       'Ameriprise Financial', 'LKQ', 'Estée Lauder', 'Cisco Systems',\n",
       "       'Fox', 'Biogen', 'Balfour Beatty',\n",
       "       'Osram Licht AG (Now part of ams AG)', 'Merck',\n",
       "       'United Parcel Service', 'Uber Technologies', 'XPO',\n",
       "       'Westinghouse Air Brake Technologies', 'Coterra Energy', 'PepsiCo',\n",
       "       'Victrex', 'Wesfarmers Limited', 'Phillips 66',\n",
       "       'Baxter International', 'GXO Logistics', 'Deere',\n",
       "       'William Hill plc', 'McCormick & Company, Incorporated',\n",
       "       'Barratt Developments', 'Warner Bros. Discovery',\n",
       "       'Royal Caribbean Group', 'Walgreens Boots Alliance', 'Sinopec',\n",
       "       \"Sainsbury's\", 'Amphenol', 'APA Group', 'Rite Aid',\n",
       "       'DCP Midstream', \"Land O'Lakes\", \"Domino's Pizza Group\",\n",
       "       'Marks & Spencer', 'T-Mobile US, Inc.',\n",
       "       'American Family Insurance Group', 'HDFC Bank', 'Cairn Energy',\n",
       "       'PG&E', 'Tata Motors', 'EQT', 'Ferguson plc', 'Corteva',\n",
       "       'United Rentals', 'Vistra', 'Dow', 'Goodyear Tire & Rubber',\n",
       "       'CVS Health', 'Caterpillar', 'Cadila Healthcare',\n",
       "       'Mahindra & Mahindra', 'Computacenter', 'Univar Solutions', 'Lear',\n",
       "       'Hikvision', 'Indiabulls Housing Finance', 'Sonic Automotive',\n",
       "       'Packaging Corp. of America', 'Deutsche Bank AG', 'Oshkosh',\n",
       "       'Origin Energy', 'Illinois Tool Works', 'Unum Group', 'MasTec',\n",
       "       'Ebay', 'Laboratory Corp. of America', 'Hilton Worldwide Holdings',\n",
       "       'DuPont', 'Citigroup', 'Sirius XM Holdings Inc.', 'ICICI Bank',\n",
       "       'Cleveland-Cliffs', 'Derwent London', 'Asian Paints',\n",
       "       'ConocoPhillips', 'Taylor Wimpey', 'Franklin Resources',\n",
       "       'Bank of China', 'Kroger', 'Allianz SE',\n",
       "       'Sun Pharmaceutical Industries', 'Air Products & Chemicals',\n",
       "       'Ocado Group', 'Delek US Holdings', 'JD Wetherspoon', 'Ameren',\n",
       "       'Thrivent Financial for Lutherans', 'Chewy', 'Parker-Hannifin',\n",
       "       'Airbnb', 'Burberry Group', 'Publix Super Markets',\n",
       "       'ON Semiconductor', 'Fortescue Metals Group', 'Autoliv',\n",
       "       'Sprint Corporation', 'AES', 'The Coca-Cola Company',\n",
       "       'Occidental Petroleum', 'Citizens Financial Group',\n",
       "       'Gree Electric Appliances', 'Watsco', 'Celgene Corporation',\n",
       "       'PI Industries', 'Microsoft', 'SBI Life Insurance Company',\n",
       "       'CF Industries Holdings', 'NCR', 'Commercial Metals',\n",
       "       'Berkshire Hathaway', 'Kraft Heinz',\n",
       "       'Jones Financial (Edward Jones)', 'Williams',\n",
       "       'Scottish Mortgage Investment Trust', 'IQVIA Holdings',\n",
       "       'Duke Energy', 'Masco', 'Activision Blizzard', 'Polaris',\n",
       "       'Sherwin-Williams', 'Andersons', 'Travis Perkins',\n",
       "       'Keurig Dr Pepper', 'Robert Half International', 'Shree Cement',\n",
       "       'Thermo Fisher Scientific', 'Vulcan Materials', 'ZTE Corporation',\n",
       "       'Cochlear Limited', 'Micro Focus International',\n",
       "       'Penske Automotive Group', 'Henry Schein', 'Jabil',\n",
       "       'Lululemon athletica', 'Grasim Industries', 'Freeport-McMoRan',\n",
       "       'Incitec Pivot', 'Avis Budget Group',\n",
       "       'Public Service Enterprise Group', 'Electrocomponents', 'DCC plc',\n",
       "       'Advance Auto Parts', 'Liberty Mutual Insurance Group',\n",
       "       'Targa Resources', 'Thor Industries', 'Newcrest Mining',\n",
       "       'Massachusetts Mutual Life Insurance', 'Valero Energy',\n",
       "       'Global Partners', 'Anheuser-Busch InBev SA/NV',\n",
       "       'BP (British Petroleum)', 'Rolls-Royce Holdings',\n",
       "       'Bharat Electronics Limited', 'Bandhan Bank', 'Newmont',\n",
       "       'Tractor Supply', 'Vodafone', 'National Grid', 'Axis Bank',\n",
       "       'Lufthansa Group', 'American Tower',\n",
       "       'Bajaj Holdings & Investment Limited', 'Hertz Global Holdings',\n",
       "       'Fluor', 'Geely Automobile Holdings', 'Danaher',\n",
       "       'Tata Consultancy Services (TCS)', 'Builders FirstSource',\n",
       "       'ServiceNow', 'Stanley Black & Decker', 'Northern Trust',\n",
       "       'CBRE Group', 'Cognizant Technology Solutions',\n",
       "       'United Natural Foods',\n",
       "       'Australia and New Zealand Banking Group (ANZ)', 'Elevance Health',\n",
       "       'Berry Global Group', 'PetroChina', 'Walt Disney', 'Freddie Mac',\n",
       "       'Seven Group Holdings', 'VF', 'Avery Dennison', 'Chevron',\n",
       "       'Cardinal Health', 'China Merchants Bank',\n",
       "       'Larsen & Toubro Infotech', 'Sinochem Group', 'Lithia Motors',\n",
       "       'Bharti Infratel', 'S&P Global', 'Dover', 'Havells India',\n",
       "       'Synchrony Financial', 'Beach Energy',\n",
       "       'Reliance Industries Limited', 'Bosch Group',\n",
       "       'China Life Insurance', 'SpartanNash',\n",
       "       'Alibaba Health Information Technology', 'Ecolab',\n",
       "       'Mohawk Industries', 'Ball', 'Cummins', 'Emerson Electric',\n",
       "       'Chipotle Mexican Grill', 'World Fuel Services',\n",
       "       'Republic Services', 'Group 1 Automotive',\n",
       "       'Oil and Natural Gas Corporation (ONGC)',\n",
       "       'Volkswagen Financial Services AG', 'Titan Company',\n",
       "       'AmerisourceBergen', 'Downer Group', 'HDFC Ltd', 'Rightmove'],\n",
       "      dtype=object)"
      ]
     },
     "execution_count": 13,
     "metadata": {},
     "output_type": "execute_result"
    }
   ],
   "source": [
    "filtered_df['Company'].unique()"
   ]
  },
  {
   "cell_type": "code",
   "execution_count": 89,
   "id": "60035e20-a1f4-4013-84a9-aa3748b14f2a",
   "metadata": {},
   "outputs": [],
   "source": [
    "new_df = filtered_df.groupby(['Company', 'Job Title']).count().unstack(0).fillna(0)\n",
    "new_df.columns = new_df.columns.droplevel(0)\n",
    "new_df = new_df.loc[:, ~new_df.columns.duplicated()]\n",
    "new_df = new_df.reset_index()"
   ]
  },
  {
   "cell_type": "code",
   "execution_count": 90,
   "id": "5b0b99d7-fe3f-4068-a13b-209147ff2b2b",
   "metadata": {},
   "outputs": [
    {
     "data": {
      "text/html": [
       "<div>\n",
       "<style scoped>\n",
       "    .dataframe tbody tr th:only-of-type {\n",
       "        vertical-align: middle;\n",
       "    }\n",
       "\n",
       "    .dataframe tbody tr th {\n",
       "        vertical-align: top;\n",
       "    }\n",
       "\n",
       "    .dataframe thead th {\n",
       "        text-align: right;\n",
       "    }\n",
       "</style>\n",
       "<table border=\"1\" class=\"dataframe\">\n",
       "  <thead>\n",
       "    <tr style=\"text-align: right;\">\n",
       "      <th>Company</th>\n",
       "      <th>Job Title</th>\n",
       "      <th>3M</th>\n",
       "      <th>3i Group</th>\n",
       "      <th>A-Mark Precious Metals</th>\n",
       "      <th>ABM Industries</th>\n",
       "      <th>AECOM</th>\n",
       "      <th>AES</th>\n",
       "      <th>AGCO</th>\n",
       "      <th>AMP Limited</th>\n",
       "      <th>APA</th>\n",
       "      <th>...</th>\n",
       "      <th>Workspace Group</th>\n",
       "      <th>World Fuel Services</th>\n",
       "      <th>Wyndham Hotels &amp; Resorts, Inc.</th>\n",
       "      <th>XPO</th>\n",
       "      <th>Xcel Energy</th>\n",
       "      <th>Xiaomi Corporation</th>\n",
       "      <th>Yum China Holdings</th>\n",
       "      <th>ZTE Corporation</th>\n",
       "      <th>Zee Entertainment Enterprises</th>\n",
       "      <th>Zoetis</th>\n",
       "    </tr>\n",
       "  </thead>\n",
       "  <tbody>\n",
       "    <tr>\n",
       "      <th>0</th>\n",
       "      <td>Account Director</td>\n",
       "      <td>0.0</td>\n",
       "      <td>0.0</td>\n",
       "      <td>0.0</td>\n",
       "      <td>0.0</td>\n",
       "      <td>0.0</td>\n",
       "      <td>0.0</td>\n",
       "      <td>0.0</td>\n",
       "      <td>1.0</td>\n",
       "      <td>0.0</td>\n",
       "      <td>...</td>\n",
       "      <td>0.0</td>\n",
       "      <td>0.0</td>\n",
       "      <td>0.0</td>\n",
       "      <td>0.0</td>\n",
       "      <td>0.0</td>\n",
       "      <td>0.0</td>\n",
       "      <td>0.0</td>\n",
       "      <td>0.0</td>\n",
       "      <td>0.0</td>\n",
       "      <td>0.0</td>\n",
       "    </tr>\n",
       "    <tr>\n",
       "      <th>1</th>\n",
       "      <td>Account Executive</td>\n",
       "      <td>0.0</td>\n",
       "      <td>0.0</td>\n",
       "      <td>0.0</td>\n",
       "      <td>0.0</td>\n",
       "      <td>0.0</td>\n",
       "      <td>0.0</td>\n",
       "      <td>0.0</td>\n",
       "      <td>1.0</td>\n",
       "      <td>0.0</td>\n",
       "      <td>...</td>\n",
       "      <td>0.0</td>\n",
       "      <td>1.0</td>\n",
       "      <td>0.0</td>\n",
       "      <td>0.0</td>\n",
       "      <td>0.0</td>\n",
       "      <td>0.0</td>\n",
       "      <td>0.0</td>\n",
       "      <td>0.0</td>\n",
       "      <td>0.0</td>\n",
       "      <td>0.0</td>\n",
       "    </tr>\n",
       "    <tr>\n",
       "      <th>2</th>\n",
       "      <td>Account Manager</td>\n",
       "      <td>0.0</td>\n",
       "      <td>0.0</td>\n",
       "      <td>0.0</td>\n",
       "      <td>0.0</td>\n",
       "      <td>0.0</td>\n",
       "      <td>0.0</td>\n",
       "      <td>0.0</td>\n",
       "      <td>0.0</td>\n",
       "      <td>2.0</td>\n",
       "      <td>...</td>\n",
       "      <td>0.0</td>\n",
       "      <td>0.0</td>\n",
       "      <td>0.0</td>\n",
       "      <td>0.0</td>\n",
       "      <td>0.0</td>\n",
       "      <td>0.0</td>\n",
       "      <td>0.0</td>\n",
       "      <td>0.0</td>\n",
       "      <td>0.0</td>\n",
       "      <td>0.0</td>\n",
       "    </tr>\n",
       "    <tr>\n",
       "      <th>3</th>\n",
       "      <td>Accountant</td>\n",
       "      <td>1.0</td>\n",
       "      <td>1.0</td>\n",
       "      <td>0.0</td>\n",
       "      <td>0.0</td>\n",
       "      <td>0.0</td>\n",
       "      <td>0.0</td>\n",
       "      <td>0.0</td>\n",
       "      <td>0.0</td>\n",
       "      <td>0.0</td>\n",
       "      <td>...</td>\n",
       "      <td>0.0</td>\n",
       "      <td>0.0</td>\n",
       "      <td>1.0</td>\n",
       "      <td>0.0</td>\n",
       "      <td>0.0</td>\n",
       "      <td>0.0</td>\n",
       "      <td>0.0</td>\n",
       "      <td>0.0</td>\n",
       "      <td>0.0</td>\n",
       "      <td>0.0</td>\n",
       "    </tr>\n",
       "    <tr>\n",
       "      <th>4</th>\n",
       "      <td>Administrative Assistant</td>\n",
       "      <td>0.0</td>\n",
       "      <td>0.0</td>\n",
       "      <td>0.0</td>\n",
       "      <td>1.0</td>\n",
       "      <td>1.0</td>\n",
       "      <td>0.0</td>\n",
       "      <td>0.0</td>\n",
       "      <td>0.0</td>\n",
       "      <td>0.0</td>\n",
       "      <td>...</td>\n",
       "      <td>1.0</td>\n",
       "      <td>0.0</td>\n",
       "      <td>0.0</td>\n",
       "      <td>0.0</td>\n",
       "      <td>0.0</td>\n",
       "      <td>0.0</td>\n",
       "      <td>0.0</td>\n",
       "      <td>0.0</td>\n",
       "      <td>0.0</td>\n",
       "      <td>1.0</td>\n",
       "    </tr>\n",
       "    <tr>\n",
       "      <th>...</th>\n",
       "      <td>...</td>\n",
       "      <td>...</td>\n",
       "      <td>...</td>\n",
       "      <td>...</td>\n",
       "      <td>...</td>\n",
       "      <td>...</td>\n",
       "      <td>...</td>\n",
       "      <td>...</td>\n",
       "      <td>...</td>\n",
       "      <td>...</td>\n",
       "      <td>...</td>\n",
       "      <td>...</td>\n",
       "      <td>...</td>\n",
       "      <td>...</td>\n",
       "      <td>...</td>\n",
       "      <td>...</td>\n",
       "      <td>...</td>\n",
       "      <td>...</td>\n",
       "      <td>...</td>\n",
       "      <td>...</td>\n",
       "      <td>...</td>\n",
       "    </tr>\n",
       "    <tr>\n",
       "      <th>142</th>\n",
       "      <td>Urban Planner</td>\n",
       "      <td>0.0</td>\n",
       "      <td>0.0</td>\n",
       "      <td>0.0</td>\n",
       "      <td>0.0</td>\n",
       "      <td>1.0</td>\n",
       "      <td>0.0</td>\n",
       "      <td>0.0</td>\n",
       "      <td>0.0</td>\n",
       "      <td>1.0</td>\n",
       "      <td>...</td>\n",
       "      <td>0.0</td>\n",
       "      <td>0.0</td>\n",
       "      <td>1.0</td>\n",
       "      <td>0.0</td>\n",
       "      <td>0.0</td>\n",
       "      <td>1.0</td>\n",
       "      <td>0.0</td>\n",
       "      <td>0.0</td>\n",
       "      <td>0.0</td>\n",
       "      <td>0.0</td>\n",
       "    </tr>\n",
       "    <tr>\n",
       "      <th>143</th>\n",
       "      <td>Veterinarian</td>\n",
       "      <td>0.0</td>\n",
       "      <td>0.0</td>\n",
       "      <td>1.0</td>\n",
       "      <td>0.0</td>\n",
       "      <td>0.0</td>\n",
       "      <td>0.0</td>\n",
       "      <td>0.0</td>\n",
       "      <td>0.0</td>\n",
       "      <td>0.0</td>\n",
       "      <td>...</td>\n",
       "      <td>0.0</td>\n",
       "      <td>0.0</td>\n",
       "      <td>0.0</td>\n",
       "      <td>0.0</td>\n",
       "      <td>0.0</td>\n",
       "      <td>0.0</td>\n",
       "      <td>0.0</td>\n",
       "      <td>0.0</td>\n",
       "      <td>0.0</td>\n",
       "      <td>0.0</td>\n",
       "    </tr>\n",
       "    <tr>\n",
       "      <th>144</th>\n",
       "      <td>Web Designer</td>\n",
       "      <td>0.0</td>\n",
       "      <td>0.0</td>\n",
       "      <td>0.0</td>\n",
       "      <td>0.0</td>\n",
       "      <td>0.0</td>\n",
       "      <td>0.0</td>\n",
       "      <td>0.0</td>\n",
       "      <td>0.0</td>\n",
       "      <td>0.0</td>\n",
       "      <td>...</td>\n",
       "      <td>0.0</td>\n",
       "      <td>0.0</td>\n",
       "      <td>0.0</td>\n",
       "      <td>1.0</td>\n",
       "      <td>0.0</td>\n",
       "      <td>0.0</td>\n",
       "      <td>0.0</td>\n",
       "      <td>0.0</td>\n",
       "      <td>0.0</td>\n",
       "      <td>0.0</td>\n",
       "    </tr>\n",
       "    <tr>\n",
       "      <th>145</th>\n",
       "      <td>Web Developer</td>\n",
       "      <td>0.0</td>\n",
       "      <td>0.0</td>\n",
       "      <td>0.0</td>\n",
       "      <td>0.0</td>\n",
       "      <td>1.0</td>\n",
       "      <td>0.0</td>\n",
       "      <td>0.0</td>\n",
       "      <td>0.0</td>\n",
       "      <td>0.0</td>\n",
       "      <td>...</td>\n",
       "      <td>1.0</td>\n",
       "      <td>1.0</td>\n",
       "      <td>0.0</td>\n",
       "      <td>0.0</td>\n",
       "      <td>0.0</td>\n",
       "      <td>0.0</td>\n",
       "      <td>0.0</td>\n",
       "      <td>0.0</td>\n",
       "      <td>0.0</td>\n",
       "      <td>0.0</td>\n",
       "    </tr>\n",
       "    <tr>\n",
       "      <th>146</th>\n",
       "      <td>Wedding Planner</td>\n",
       "      <td>0.0</td>\n",
       "      <td>0.0</td>\n",
       "      <td>0.0</td>\n",
       "      <td>0.0</td>\n",
       "      <td>0.0</td>\n",
       "      <td>1.0</td>\n",
       "      <td>0.0</td>\n",
       "      <td>0.0</td>\n",
       "      <td>0.0</td>\n",
       "      <td>...</td>\n",
       "      <td>0.0</td>\n",
       "      <td>0.0</td>\n",
       "      <td>0.0</td>\n",
       "      <td>1.0</td>\n",
       "      <td>0.0</td>\n",
       "      <td>0.0</td>\n",
       "      <td>0.0</td>\n",
       "      <td>0.0</td>\n",
       "      <td>0.0</td>\n",
       "      <td>0.0</td>\n",
       "    </tr>\n",
       "  </tbody>\n",
       "</table>\n",
       "<p>147 rows × 889 columns</p>\n",
       "</div>"
      ],
      "text/plain": [
       "Company                 Job Title   3M  3i Group  A-Mark Precious Metals  \\\n",
       "0                Account Director  0.0       0.0                     0.0   \n",
       "1               Account Executive  0.0       0.0                     0.0   \n",
       "2                 Account Manager  0.0       0.0                     0.0   \n",
       "3                      Accountant  1.0       1.0                     0.0   \n",
       "4        Administrative Assistant  0.0       0.0                     0.0   \n",
       "..                            ...  ...       ...                     ...   \n",
       "142                 Urban Planner  0.0       0.0                     0.0   \n",
       "143                  Veterinarian  0.0       0.0                     1.0   \n",
       "144                  Web Designer  0.0       0.0                     0.0   \n",
       "145                 Web Developer  0.0       0.0                     0.0   \n",
       "146               Wedding Planner  0.0       0.0                     0.0   \n",
       "\n",
       "Company  ABM Industries  AECOM  AES  AGCO  AMP Limited  APA  ...  \\\n",
       "0                   0.0    0.0  0.0   0.0          1.0  0.0  ...   \n",
       "1                   0.0    0.0  0.0   0.0          1.0  0.0  ...   \n",
       "2                   0.0    0.0  0.0   0.0          0.0  2.0  ...   \n",
       "3                   0.0    0.0  0.0   0.0          0.0  0.0  ...   \n",
       "4                   1.0    1.0  0.0   0.0          0.0  0.0  ...   \n",
       "..                  ...    ...  ...   ...          ...  ...  ...   \n",
       "142                 0.0    1.0  0.0   0.0          0.0  1.0  ...   \n",
       "143                 0.0    0.0  0.0   0.0          0.0  0.0  ...   \n",
       "144                 0.0    0.0  0.0   0.0          0.0  0.0  ...   \n",
       "145                 0.0    1.0  0.0   0.0          0.0  0.0  ...   \n",
       "146                 0.0    0.0  1.0   0.0          0.0  0.0  ...   \n",
       "\n",
       "Company  Workspace Group  World Fuel Services  Wyndham Hotels & Resorts, Inc.  \\\n",
       "0                    0.0                  0.0                             0.0   \n",
       "1                    0.0                  1.0                             0.0   \n",
       "2                    0.0                  0.0                             0.0   \n",
       "3                    0.0                  0.0                             1.0   \n",
       "4                    1.0                  0.0                             0.0   \n",
       "..                   ...                  ...                             ...   \n",
       "142                  0.0                  0.0                             1.0   \n",
       "143                  0.0                  0.0                             0.0   \n",
       "144                  0.0                  0.0                             0.0   \n",
       "145                  1.0                  1.0                             0.0   \n",
       "146                  0.0                  0.0                             0.0   \n",
       "\n",
       "Company  XPO  Xcel Energy  Xiaomi Corporation  Yum China Holdings  \\\n",
       "0        0.0          0.0                 0.0                 0.0   \n",
       "1        0.0          0.0                 0.0                 0.0   \n",
       "2        0.0          0.0                 0.0                 0.0   \n",
       "3        0.0          0.0                 0.0                 0.0   \n",
       "4        0.0          0.0                 0.0                 0.0   \n",
       "..       ...          ...                 ...                 ...   \n",
       "142      0.0          0.0                 1.0                 0.0   \n",
       "143      0.0          0.0                 0.0                 0.0   \n",
       "144      1.0          0.0                 0.0                 0.0   \n",
       "145      0.0          0.0                 0.0                 0.0   \n",
       "146      1.0          0.0                 0.0                 0.0   \n",
       "\n",
       "Company  ZTE Corporation  Zee Entertainment Enterprises  Zoetis  \n",
       "0                    0.0                            0.0     0.0  \n",
       "1                    0.0                            0.0     0.0  \n",
       "2                    0.0                            0.0     0.0  \n",
       "3                    0.0                            0.0     0.0  \n",
       "4                    0.0                            0.0     1.0  \n",
       "..                   ...                            ...     ...  \n",
       "142                  0.0                            0.0     0.0  \n",
       "143                  0.0                            0.0     0.0  \n",
       "144                  0.0                            0.0     0.0  \n",
       "145                  0.0                            0.0     0.0  \n",
       "146                  0.0                            0.0     0.0  \n",
       "\n",
       "[147 rows x 889 columns]"
      ]
     },
     "execution_count": 90,
     "metadata": {},
     "output_type": "execute_result"
    }
   ],
   "source": [
    "new_df"
   ]
  },
  {
   "cell_type": "code",
   "execution_count": 102,
   "id": "a693bc70-8f2c-48e8-a06c-b1186e3c404c",
   "metadata": {},
   "outputs": [
    {
     "data": {
      "text/html": [
       "<div>\n",
       "<style scoped>\n",
       "    .dataframe tbody tr th:only-of-type {\n",
       "        vertical-align: middle;\n",
       "    }\n",
       "\n",
       "    .dataframe tbody tr th {\n",
       "        vertical-align: top;\n",
       "    }\n",
       "\n",
       "    .dataframe thead th {\n",
       "        text-align: right;\n",
       "    }\n",
       "</style>\n",
       "<table border=\"1\" class=\"dataframe\">\n",
       "  <thead>\n",
       "    <tr style=\"text-align: right;\">\n",
       "      <th>Company</th>\n",
       "      <th>Job Title</th>\n",
       "      <th>3M</th>\n",
       "      <th>3i Group</th>\n",
       "      <th>A-Mark Precious Metals</th>\n",
       "      <th>ABM Industries</th>\n",
       "      <th>AECOM</th>\n",
       "      <th>AES</th>\n",
       "      <th>AGCO</th>\n",
       "      <th>AMP Limited</th>\n",
       "      <th>APA</th>\n",
       "      <th>...</th>\n",
       "      <th>Workspace Group</th>\n",
       "      <th>World Fuel Services</th>\n",
       "      <th>Wyndham Hotels &amp; Resorts, Inc.</th>\n",
       "      <th>XPO</th>\n",
       "      <th>Xcel Energy</th>\n",
       "      <th>Xiaomi Corporation</th>\n",
       "      <th>Yum China Holdings</th>\n",
       "      <th>ZTE Corporation</th>\n",
       "      <th>Zee Entertainment Enterprises</th>\n",
       "      <th>Zoetis</th>\n",
       "    </tr>\n",
       "  </thead>\n",
       "  <tbody>\n",
       "    <tr>\n",
       "      <th>3</th>\n",
       "      <td>Accountant</td>\n",
       "      <td>1.0</td>\n",
       "      <td>1.0</td>\n",
       "      <td>0.0</td>\n",
       "      <td>0.0</td>\n",
       "      <td>0.0</td>\n",
       "      <td>0.0</td>\n",
       "      <td>0.0</td>\n",
       "      <td>0.0</td>\n",
       "      <td>0.0</td>\n",
       "      <td>...</td>\n",
       "      <td>0.0</td>\n",
       "      <td>0.0</td>\n",
       "      <td>1.0</td>\n",
       "      <td>0.0</td>\n",
       "      <td>0.0</td>\n",
       "      <td>0.0</td>\n",
       "      <td>0.0</td>\n",
       "      <td>0.0</td>\n",
       "      <td>0.0</td>\n",
       "      <td>0.0</td>\n",
       "    </tr>\n",
       "    <tr>\n",
       "      <th>23</th>\n",
       "      <td>Customer Support Specialist</td>\n",
       "      <td>1.0</td>\n",
       "      <td>1.0</td>\n",
       "      <td>0.0</td>\n",
       "      <td>0.0</td>\n",
       "      <td>1.0</td>\n",
       "      <td>0.0</td>\n",
       "      <td>0.0</td>\n",
       "      <td>0.0</td>\n",
       "      <td>0.0</td>\n",
       "      <td>...</td>\n",
       "      <td>0.0</td>\n",
       "      <td>0.0</td>\n",
       "      <td>1.0</td>\n",
       "      <td>0.0</td>\n",
       "      <td>0.0</td>\n",
       "      <td>1.0</td>\n",
       "      <td>0.0</td>\n",
       "      <td>0.0</td>\n",
       "      <td>1.0</td>\n",
       "      <td>0.0</td>\n",
       "    </tr>\n",
       "    <tr>\n",
       "      <th>30</th>\n",
       "      <td>Dental Hygienist</td>\n",
       "      <td>1.0</td>\n",
       "      <td>1.0</td>\n",
       "      <td>0.0</td>\n",
       "      <td>0.0</td>\n",
       "      <td>0.0</td>\n",
       "      <td>0.0</td>\n",
       "      <td>0.0</td>\n",
       "      <td>0.0</td>\n",
       "      <td>0.0</td>\n",
       "      <td>...</td>\n",
       "      <td>0.0</td>\n",
       "      <td>0.0</td>\n",
       "      <td>0.0</td>\n",
       "      <td>1.0</td>\n",
       "      <td>0.0</td>\n",
       "      <td>0.0</td>\n",
       "      <td>0.0</td>\n",
       "      <td>0.0</td>\n",
       "      <td>0.0</td>\n",
       "      <td>0.0</td>\n",
       "    </tr>\n",
       "    <tr>\n",
       "      <th>36</th>\n",
       "      <td>Environmental Engineer</td>\n",
       "      <td>1.0</td>\n",
       "      <td>0.0</td>\n",
       "      <td>0.0</td>\n",
       "      <td>0.0</td>\n",
       "      <td>0.0</td>\n",
       "      <td>0.0</td>\n",
       "      <td>0.0</td>\n",
       "      <td>1.0</td>\n",
       "      <td>0.0</td>\n",
       "      <td>...</td>\n",
       "      <td>0.0</td>\n",
       "      <td>0.0</td>\n",
       "      <td>1.0</td>\n",
       "      <td>0.0</td>\n",
       "      <td>0.0</td>\n",
       "      <td>0.0</td>\n",
       "      <td>0.0</td>\n",
       "      <td>0.0</td>\n",
       "      <td>0.0</td>\n",
       "      <td>0.0</td>\n",
       "    </tr>\n",
       "    <tr>\n",
       "      <th>51</th>\n",
       "      <td>HR Coordinator</td>\n",
       "      <td>1.0</td>\n",
       "      <td>0.0</td>\n",
       "      <td>1.0</td>\n",
       "      <td>0.0</td>\n",
       "      <td>0.0</td>\n",
       "      <td>0.0</td>\n",
       "      <td>0.0</td>\n",
       "      <td>1.0</td>\n",
       "      <td>0.0</td>\n",
       "      <td>...</td>\n",
       "      <td>0.0</td>\n",
       "      <td>0.0</td>\n",
       "      <td>0.0</td>\n",
       "      <td>0.0</td>\n",
       "      <td>0.0</td>\n",
       "      <td>1.0</td>\n",
       "      <td>0.0</td>\n",
       "      <td>0.0</td>\n",
       "      <td>0.0</td>\n",
       "      <td>1.0</td>\n",
       "    </tr>\n",
       "    <tr>\n",
       "      <th>59</th>\n",
       "      <td>Inventory Analyst</td>\n",
       "      <td>1.0</td>\n",
       "      <td>0.0</td>\n",
       "      <td>0.0</td>\n",
       "      <td>0.0</td>\n",
       "      <td>0.0</td>\n",
       "      <td>0.0</td>\n",
       "      <td>0.0</td>\n",
       "      <td>0.0</td>\n",
       "      <td>0.0</td>\n",
       "      <td>...</td>\n",
       "      <td>0.0</td>\n",
       "      <td>0.0</td>\n",
       "      <td>0.0</td>\n",
       "      <td>0.0</td>\n",
       "      <td>1.0</td>\n",
       "      <td>0.0</td>\n",
       "      <td>0.0</td>\n",
       "      <td>0.0</td>\n",
       "      <td>0.0</td>\n",
       "      <td>0.0</td>\n",
       "    </tr>\n",
       "    <tr>\n",
       "      <th>61</th>\n",
       "      <td>Investment Analyst</td>\n",
       "      <td>2.0</td>\n",
       "      <td>0.0</td>\n",
       "      <td>0.0</td>\n",
       "      <td>0.0</td>\n",
       "      <td>0.0</td>\n",
       "      <td>0.0</td>\n",
       "      <td>0.0</td>\n",
       "      <td>0.0</td>\n",
       "      <td>0.0</td>\n",
       "      <td>...</td>\n",
       "      <td>0.0</td>\n",
       "      <td>0.0</td>\n",
       "      <td>0.0</td>\n",
       "      <td>0.0</td>\n",
       "      <td>0.0</td>\n",
       "      <td>0.0</td>\n",
       "      <td>0.0</td>\n",
       "      <td>0.0</td>\n",
       "      <td>0.0</td>\n",
       "      <td>0.0</td>\n",
       "    </tr>\n",
       "    <tr>\n",
       "      <th>67</th>\n",
       "      <td>Legal Advisor</td>\n",
       "      <td>1.0</td>\n",
       "      <td>0.0</td>\n",
       "      <td>0.0</td>\n",
       "      <td>0.0</td>\n",
       "      <td>0.0</td>\n",
       "      <td>0.0</td>\n",
       "      <td>0.0</td>\n",
       "      <td>0.0</td>\n",
       "      <td>0.0</td>\n",
       "      <td>...</td>\n",
       "      <td>0.0</td>\n",
       "      <td>1.0</td>\n",
       "      <td>0.0</td>\n",
       "      <td>0.0</td>\n",
       "      <td>0.0</td>\n",
       "      <td>0.0</td>\n",
       "      <td>0.0</td>\n",
       "      <td>0.0</td>\n",
       "      <td>0.0</td>\n",
       "      <td>0.0</td>\n",
       "    </tr>\n",
       "    <tr>\n",
       "      <th>68</th>\n",
       "      <td>Legal Assistant</td>\n",
       "      <td>1.0</td>\n",
       "      <td>0.0</td>\n",
       "      <td>0.0</td>\n",
       "      <td>0.0</td>\n",
       "      <td>0.0</td>\n",
       "      <td>1.0</td>\n",
       "      <td>0.0</td>\n",
       "      <td>0.0</td>\n",
       "      <td>0.0</td>\n",
       "      <td>...</td>\n",
       "      <td>0.0</td>\n",
       "      <td>0.0</td>\n",
       "      <td>0.0</td>\n",
       "      <td>0.0</td>\n",
       "      <td>1.0</td>\n",
       "      <td>2.0</td>\n",
       "      <td>0.0</td>\n",
       "      <td>0.0</td>\n",
       "      <td>0.0</td>\n",
       "      <td>0.0</td>\n",
       "    </tr>\n",
       "    <tr>\n",
       "      <th>74</th>\n",
       "      <td>Marketing Analyst</td>\n",
       "      <td>1.0</td>\n",
       "      <td>0.0</td>\n",
       "      <td>0.0</td>\n",
       "      <td>1.0</td>\n",
       "      <td>0.0</td>\n",
       "      <td>0.0</td>\n",
       "      <td>0.0</td>\n",
       "      <td>1.0</td>\n",
       "      <td>0.0</td>\n",
       "      <td>...</td>\n",
       "      <td>0.0</td>\n",
       "      <td>0.0</td>\n",
       "      <td>0.0</td>\n",
       "      <td>2.0</td>\n",
       "      <td>0.0</td>\n",
       "      <td>0.0</td>\n",
       "      <td>0.0</td>\n",
       "      <td>0.0</td>\n",
       "      <td>0.0</td>\n",
       "      <td>0.0</td>\n",
       "    </tr>\n",
       "    <tr>\n",
       "      <th>77</th>\n",
       "      <td>Marketing Manager</td>\n",
       "      <td>1.0</td>\n",
       "      <td>1.0</td>\n",
       "      <td>0.0</td>\n",
       "      <td>0.0</td>\n",
       "      <td>0.0</td>\n",
       "      <td>0.0</td>\n",
       "      <td>0.0</td>\n",
       "      <td>0.0</td>\n",
       "      <td>0.0</td>\n",
       "      <td>...</td>\n",
       "      <td>0.0</td>\n",
       "      <td>1.0</td>\n",
       "      <td>0.0</td>\n",
       "      <td>0.0</td>\n",
       "      <td>0.0</td>\n",
       "      <td>1.0</td>\n",
       "      <td>0.0</td>\n",
       "      <td>0.0</td>\n",
       "      <td>0.0</td>\n",
       "      <td>0.0</td>\n",
       "    </tr>\n",
       "    <tr>\n",
       "      <th>78</th>\n",
       "      <td>Marketing Specialist</td>\n",
       "      <td>1.0</td>\n",
       "      <td>0.0</td>\n",
       "      <td>0.0</td>\n",
       "      <td>0.0</td>\n",
       "      <td>0.0</td>\n",
       "      <td>0.0</td>\n",
       "      <td>0.0</td>\n",
       "      <td>0.0</td>\n",
       "      <td>0.0</td>\n",
       "      <td>...</td>\n",
       "      <td>0.0</td>\n",
       "      <td>0.0</td>\n",
       "      <td>0.0</td>\n",
       "      <td>0.0</td>\n",
       "      <td>0.0</td>\n",
       "      <td>0.0</td>\n",
       "      <td>0.0</td>\n",
       "      <td>0.0</td>\n",
       "      <td>0.0</td>\n",
       "      <td>0.0</td>\n",
       "    </tr>\n",
       "    <tr>\n",
       "      <th>84</th>\n",
       "      <td>Network Security Specialist</td>\n",
       "      <td>1.0</td>\n",
       "      <td>0.0</td>\n",
       "      <td>0.0</td>\n",
       "      <td>0.0</td>\n",
       "      <td>0.0</td>\n",
       "      <td>0.0</td>\n",
       "      <td>0.0</td>\n",
       "      <td>1.0</td>\n",
       "      <td>1.0</td>\n",
       "      <td>...</td>\n",
       "      <td>0.0</td>\n",
       "      <td>0.0</td>\n",
       "      <td>0.0</td>\n",
       "      <td>0.0</td>\n",
       "      <td>0.0</td>\n",
       "      <td>0.0</td>\n",
       "      <td>0.0</td>\n",
       "      <td>0.0</td>\n",
       "      <td>0.0</td>\n",
       "      <td>0.0</td>\n",
       "    </tr>\n",
       "    <tr>\n",
       "      <th>110</th>\n",
       "      <td>Quality Assurance Analyst</td>\n",
       "      <td>2.0</td>\n",
       "      <td>0.0</td>\n",
       "      <td>1.0</td>\n",
       "      <td>0.0</td>\n",
       "      <td>0.0</td>\n",
       "      <td>0.0</td>\n",
       "      <td>0.0</td>\n",
       "      <td>0.0</td>\n",
       "      <td>0.0</td>\n",
       "      <td>...</td>\n",
       "      <td>0.0</td>\n",
       "      <td>0.0</td>\n",
       "      <td>0.0</td>\n",
       "      <td>0.0</td>\n",
       "      <td>1.0</td>\n",
       "      <td>0.0</td>\n",
       "      <td>1.0</td>\n",
       "      <td>0.0</td>\n",
       "      <td>0.0</td>\n",
       "      <td>0.0</td>\n",
       "    </tr>\n",
       "    <tr>\n",
       "      <th>123</th>\n",
       "      <td>Social Worker</td>\n",
       "      <td>1.0</td>\n",
       "      <td>0.0</td>\n",
       "      <td>0.0</td>\n",
       "      <td>0.0</td>\n",
       "      <td>0.0</td>\n",
       "      <td>0.0</td>\n",
       "      <td>0.0</td>\n",
       "      <td>0.0</td>\n",
       "      <td>0.0</td>\n",
       "      <td>...</td>\n",
       "      <td>0.0</td>\n",
       "      <td>0.0</td>\n",
       "      <td>0.0</td>\n",
       "      <td>0.0</td>\n",
       "      <td>0.0</td>\n",
       "      <td>0.0</td>\n",
       "      <td>0.0</td>\n",
       "      <td>0.0</td>\n",
       "      <td>0.0</td>\n",
       "      <td>0.0</td>\n",
       "    </tr>\n",
       "    <tr>\n",
       "      <th>124</th>\n",
       "      <td>Software Architect</td>\n",
       "      <td>1.0</td>\n",
       "      <td>0.0</td>\n",
       "      <td>0.0</td>\n",
       "      <td>0.0</td>\n",
       "      <td>0.0</td>\n",
       "      <td>0.0</td>\n",
       "      <td>0.0</td>\n",
       "      <td>0.0</td>\n",
       "      <td>0.0</td>\n",
       "      <td>...</td>\n",
       "      <td>1.0</td>\n",
       "      <td>0.0</td>\n",
       "      <td>0.0</td>\n",
       "      <td>0.0</td>\n",
       "      <td>0.0</td>\n",
       "      <td>0.0</td>\n",
       "      <td>0.0</td>\n",
       "      <td>0.0</td>\n",
       "      <td>0.0</td>\n",
       "      <td>0.0</td>\n",
       "    </tr>\n",
       "    <tr>\n",
       "      <th>141</th>\n",
       "      <td>UX/UI Designer</td>\n",
       "      <td>1.0</td>\n",
       "      <td>2.0</td>\n",
       "      <td>2.0</td>\n",
       "      <td>0.0</td>\n",
       "      <td>0.0</td>\n",
       "      <td>2.0</td>\n",
       "      <td>0.0</td>\n",
       "      <td>1.0</td>\n",
       "      <td>0.0</td>\n",
       "      <td>...</td>\n",
       "      <td>0.0</td>\n",
       "      <td>0.0</td>\n",
       "      <td>0.0</td>\n",
       "      <td>0.0</td>\n",
       "      <td>0.0</td>\n",
       "      <td>0.0</td>\n",
       "      <td>0.0</td>\n",
       "      <td>1.0</td>\n",
       "      <td>0.0</td>\n",
       "      <td>0.0</td>\n",
       "    </tr>\n",
       "  </tbody>\n",
       "</table>\n",
       "<p>17 rows × 889 columns</p>\n",
       "</div>"
      ],
      "text/plain": [
       "Company                    Job Title   3M  3i Group  A-Mark Precious Metals  \\\n",
       "3                         Accountant  1.0       1.0                     0.0   \n",
       "23       Customer Support Specialist  1.0       1.0                     0.0   \n",
       "30                  Dental Hygienist  1.0       1.0                     0.0   \n",
       "36            Environmental Engineer  1.0       0.0                     0.0   \n",
       "51                    HR Coordinator  1.0       0.0                     1.0   \n",
       "59                 Inventory Analyst  1.0       0.0                     0.0   \n",
       "61                Investment Analyst  2.0       0.0                     0.0   \n",
       "67                     Legal Advisor  1.0       0.0                     0.0   \n",
       "68                   Legal Assistant  1.0       0.0                     0.0   \n",
       "74                 Marketing Analyst  1.0       0.0                     0.0   \n",
       "77                 Marketing Manager  1.0       1.0                     0.0   \n",
       "78              Marketing Specialist  1.0       0.0                     0.0   \n",
       "84       Network Security Specialist  1.0       0.0                     0.0   \n",
       "110        Quality Assurance Analyst  2.0       0.0                     1.0   \n",
       "123                    Social Worker  1.0       0.0                     0.0   \n",
       "124               Software Architect  1.0       0.0                     0.0   \n",
       "141                   UX/UI Designer  1.0       2.0                     2.0   \n",
       "\n",
       "Company  ABM Industries  AECOM  AES  AGCO  AMP Limited  APA  ...  \\\n",
       "3                   0.0    0.0  0.0   0.0          0.0  0.0  ...   \n",
       "23                  0.0    1.0  0.0   0.0          0.0  0.0  ...   \n",
       "30                  0.0    0.0  0.0   0.0          0.0  0.0  ...   \n",
       "36                  0.0    0.0  0.0   0.0          1.0  0.0  ...   \n",
       "51                  0.0    0.0  0.0   0.0          1.0  0.0  ...   \n",
       "59                  0.0    0.0  0.0   0.0          0.0  0.0  ...   \n",
       "61                  0.0    0.0  0.0   0.0          0.0  0.0  ...   \n",
       "67                  0.0    0.0  0.0   0.0          0.0  0.0  ...   \n",
       "68                  0.0    0.0  1.0   0.0          0.0  0.0  ...   \n",
       "74                  1.0    0.0  0.0   0.0          1.0  0.0  ...   \n",
       "77                  0.0    0.0  0.0   0.0          0.0  0.0  ...   \n",
       "78                  0.0    0.0  0.0   0.0          0.0  0.0  ...   \n",
       "84                  0.0    0.0  0.0   0.0          1.0  1.0  ...   \n",
       "110                 0.0    0.0  0.0   0.0          0.0  0.0  ...   \n",
       "123                 0.0    0.0  0.0   0.0          0.0  0.0  ...   \n",
       "124                 0.0    0.0  0.0   0.0          0.0  0.0  ...   \n",
       "141                 0.0    0.0  2.0   0.0          1.0  0.0  ...   \n",
       "\n",
       "Company  Workspace Group  World Fuel Services  Wyndham Hotels & Resorts, Inc.  \\\n",
       "3                    0.0                  0.0                             1.0   \n",
       "23                   0.0                  0.0                             1.0   \n",
       "30                   0.0                  0.0                             0.0   \n",
       "36                   0.0                  0.0                             1.0   \n",
       "51                   0.0                  0.0                             0.0   \n",
       "59                   0.0                  0.0                             0.0   \n",
       "61                   0.0                  0.0                             0.0   \n",
       "67                   0.0                  1.0                             0.0   \n",
       "68                   0.0                  0.0                             0.0   \n",
       "74                   0.0                  0.0                             0.0   \n",
       "77                   0.0                  1.0                             0.0   \n",
       "78                   0.0                  0.0                             0.0   \n",
       "84                   0.0                  0.0                             0.0   \n",
       "110                  0.0                  0.0                             0.0   \n",
       "123                  0.0                  0.0                             0.0   \n",
       "124                  1.0                  0.0                             0.0   \n",
       "141                  0.0                  0.0                             0.0   \n",
       "\n",
       "Company  XPO  Xcel Energy  Xiaomi Corporation  Yum China Holdings  \\\n",
       "3        0.0          0.0                 0.0                 0.0   \n",
       "23       0.0          0.0                 1.0                 0.0   \n",
       "30       1.0          0.0                 0.0                 0.0   \n",
       "36       0.0          0.0                 0.0                 0.0   \n",
       "51       0.0          0.0                 1.0                 0.0   \n",
       "59       0.0          1.0                 0.0                 0.0   \n",
       "61       0.0          0.0                 0.0                 0.0   \n",
       "67       0.0          0.0                 0.0                 0.0   \n",
       "68       0.0          1.0                 2.0                 0.0   \n",
       "74       2.0          0.0                 0.0                 0.0   \n",
       "77       0.0          0.0                 1.0                 0.0   \n",
       "78       0.0          0.0                 0.0                 0.0   \n",
       "84       0.0          0.0                 0.0                 0.0   \n",
       "110      0.0          1.0                 0.0                 1.0   \n",
       "123      0.0          0.0                 0.0                 0.0   \n",
       "124      0.0          0.0                 0.0                 0.0   \n",
       "141      0.0          0.0                 0.0                 0.0   \n",
       "\n",
       "Company  ZTE Corporation  Zee Entertainment Enterprises  Zoetis  \n",
       "3                    0.0                            0.0     0.0  \n",
       "23                   0.0                            1.0     0.0  \n",
       "30                   0.0                            0.0     0.0  \n",
       "36                   0.0                            0.0     0.0  \n",
       "51                   0.0                            0.0     1.0  \n",
       "59                   0.0                            0.0     0.0  \n",
       "61                   0.0                            0.0     0.0  \n",
       "67                   0.0                            0.0     0.0  \n",
       "68                   0.0                            0.0     0.0  \n",
       "74                   0.0                            0.0     0.0  \n",
       "77                   0.0                            0.0     0.0  \n",
       "78                   0.0                            0.0     0.0  \n",
       "84                   0.0                            0.0     0.0  \n",
       "110                  0.0                            0.0     0.0  \n",
       "123                  0.0                            0.0     0.0  \n",
       "124                  0.0                            0.0     0.0  \n",
       "141                  1.0                            0.0     0.0  \n",
       "\n",
       "[17 rows x 889 columns]"
      ]
     },
     "execution_count": 102,
     "metadata": {},
     "output_type": "execute_result"
    }
   ],
   "source": [
    "new_df[new_df['3M'] != 0]"
   ]
  },
  {
   "cell_type": "code",
   "execution_count": 98,
   "id": "eaeb49ea-db5a-4a27-b6b0-d352990a667b",
   "metadata": {},
   "outputs": [
    {
     "data": {
      "application/vnd.plotly.v1+json": {
       "config": {
        "plotlyServerURL": "https://plot.ly"
       },
       "data": [
        {
         "domain": {
          "x": [
           0,
           1
          ],
          "y": [
           0,
           1
          ]
         },
         "hovertemplate": "Job Title=%{label}<br>3M=%{value}<extra></extra>",
         "labels": [
          "Account Director",
          "Account Executive",
          "Account Manager",
          "Accountant",
          "Administrative Assistant",
          "Aerospace Engineer",
          "Architect",
          "Architectural Designer",
          "Art Director",
          "Art Teacher",
          "Back-End Developer",
          "Brand Ambassador",
          "Brand Manager",
          "Business Analyst",
          "Business Development Manager",
          "Chemical Analyst",
          "Chemical Engineer",
          "Civil Engineer",
          "Content Writer",
          "Copywriter",
          "Customer Service Manager",
          "Customer Service Representative",
          "Customer Success Manager",
          "Customer Support Specialist",
          "Data Analyst",
          "Data Engineer",
          "Data Entry Clerk",
          "Data Scientist",
          "Database Administrator",
          "Database Developer",
          "Dental Hygienist",
          "Digital Marketing Specialist",
          "Electrical Designer",
          "Electrical Engineer",
          "Email Marketing Specialist",
          "Environmental Consultant",
          "Environmental Engineer",
          "Event Coordinator",
          "Event Manager",
          "Event Planner",
          "Executive Assistant",
          "Family Lawyer",
          "Family Nurse Practitioner",
          "Finance Manager",
          "Financial Advisor",
          "Financial Analyst",
          "Financial Controller",
          "Financial Planner",
          "Front-End Developer",
          "Front-End Engineer",
          "Graphic Designer",
          "HR Coordinator",
          "HR Generalist",
          "HR Manager",
          "Human Resources Manager",
          "IT Administrator",
          "IT Manager",
          "IT Support Specialist",
          "Interior Designer",
          "Inventory Analyst",
          "Investment Advisor",
          "Investment Analyst",
          "Investment Banker",
          "Java Developer",
          "Key Account Manager",
          "Landscape Architect",
          "Landscape Designer",
          "Legal Advisor",
          "Legal Assistant",
          "Legal Counsel",
          "Legal Secretary",
          "Litigation Attorney",
          "Market Analyst",
          "Market Research Analyst",
          "Marketing Analyst",
          "Marketing Coordinator",
          "Marketing Director",
          "Marketing Manager",
          "Marketing Specialist",
          "Mechanical Designer",
          "Mechanical Engineer",
          "Network Administrator",
          "Network Analyst",
          "Network Engineer",
          "Network Security Specialist",
          "Network Technician",
          "Nurse Manager",
          "Nurse Practitioner",
          "Occupational Therapist",
          "Office Manager",
          "Operations Manager",
          "Paralegal",
          "Pediatrician",
          "Personal Assistant",
          "Pharmaceutical Sales Representative",
          "Physical Therapist",
          "Physician Assistant",
          "Process Engineer",
          "Procurement Coordinator",
          "Procurement Manager",
          "Procurement Specialist",
          "Product Designer",
          "Product Manager",
          "Project Coordinator",
          "Project Manager",
          "Psychologist",
          "Public Relations Specialist",
          "Purchasing Agent",
          "QA Analyst",
          "QA Engineer",
          "Quality Assurance Analyst",
          "Registered Nurse",
          "Research Analyst",
          "Research Scientist",
          "SEM Specialist",
          "SEO Analyst",
          "SEO Specialist",
          "Sales Associate",
          "Sales Consultant",
          "Sales Manager",
          "Sales Representative",
          "Social Media Coordinator",
          "Social Media Manager",
          "Social Worker",
          "Software Architect",
          "Software Developer",
          "Software Engineer",
          "Software Tester",
          "Speech Therapist",
          "Structural Engineer",
          "Substance Abuse Counselor",
          "Supply Chain Analyst",
          "Supply Chain Manager",
          "Systems Administrator",
          "Systems Analyst",
          "Systems Engineer",
          "Tax Consultant",
          "Teacher",
          "Technical Writer",
          "UI Developer",
          "UX Researcher",
          "UX/UI Designer",
          "Urban Planner",
          "Veterinarian",
          "Web Designer",
          "Web Developer",
          "Wedding Planner"
         ],
         "legendgroup": "",
         "name": "",
         "showlegend": true,
         "type": "pie",
         "values": [
          0,
          0,
          0,
          1,
          0,
          0,
          0,
          0,
          0,
          0,
          0,
          0,
          0,
          0,
          0,
          0,
          0,
          0,
          0,
          0,
          0,
          0,
          0,
          1,
          0,
          0,
          0,
          0,
          0,
          0,
          1,
          0,
          0,
          0,
          0,
          0,
          1,
          0,
          0,
          0,
          0,
          0,
          0,
          0,
          0,
          0,
          0,
          0,
          0,
          0,
          0,
          1,
          0,
          0,
          0,
          0,
          0,
          0,
          0,
          1,
          0,
          2,
          0,
          0,
          0,
          0,
          0,
          1,
          1,
          0,
          0,
          0,
          0,
          0,
          1,
          0,
          0,
          1,
          1,
          0,
          0,
          0,
          0,
          0,
          1,
          0,
          0,
          0,
          0,
          0,
          0,
          0,
          0,
          0,
          0,
          0,
          0,
          0,
          0,
          0,
          0,
          0,
          0,
          0,
          0,
          0,
          0,
          0,
          0,
          0,
          2,
          0,
          0,
          0,
          0,
          0,
          0,
          0,
          0,
          0,
          0,
          0,
          0,
          1,
          1,
          0,
          0,
          0,
          0,
          0,
          0,
          0,
          0,
          0,
          0,
          0,
          0,
          0,
          0,
          0,
          0,
          1,
          0,
          0,
          0,
          0,
          0
         ]
        }
       ],
       "layout": {
        "legend": {
         "tracegroupgap": 0
        },
        "margin": {
         "t": 60
        },
        "template": {
         "data": {
          "bar": [
           {
            "error_x": {
             "color": "#2a3f5f"
            },
            "error_y": {
             "color": "#2a3f5f"
            },
            "marker": {
             "line": {
              "color": "#E5ECF6",
              "width": 0.5
             },
             "pattern": {
              "fillmode": "overlay",
              "size": 10,
              "solidity": 0.2
             }
            },
            "type": "bar"
           }
          ],
          "barpolar": [
           {
            "marker": {
             "line": {
              "color": "#E5ECF6",
              "width": 0.5
             },
             "pattern": {
              "fillmode": "overlay",
              "size": 10,
              "solidity": 0.2
             }
            },
            "type": "barpolar"
           }
          ],
          "carpet": [
           {
            "aaxis": {
             "endlinecolor": "#2a3f5f",
             "gridcolor": "white",
             "linecolor": "white",
             "minorgridcolor": "white",
             "startlinecolor": "#2a3f5f"
            },
            "baxis": {
             "endlinecolor": "#2a3f5f",
             "gridcolor": "white",
             "linecolor": "white",
             "minorgridcolor": "white",
             "startlinecolor": "#2a3f5f"
            },
            "type": "carpet"
           }
          ],
          "choropleth": [
           {
            "colorbar": {
             "outlinewidth": 0,
             "ticks": ""
            },
            "type": "choropleth"
           }
          ],
          "contour": [
           {
            "colorbar": {
             "outlinewidth": 0,
             "ticks": ""
            },
            "colorscale": [
             [
              0,
              "#0d0887"
             ],
             [
              0.1111111111111111,
              "#46039f"
             ],
             [
              0.2222222222222222,
              "#7201a8"
             ],
             [
              0.3333333333333333,
              "#9c179e"
             ],
             [
              0.4444444444444444,
              "#bd3786"
             ],
             [
              0.5555555555555556,
              "#d8576b"
             ],
             [
              0.6666666666666666,
              "#ed7953"
             ],
             [
              0.7777777777777778,
              "#fb9f3a"
             ],
             [
              0.8888888888888888,
              "#fdca26"
             ],
             [
              1,
              "#f0f921"
             ]
            ],
            "type": "contour"
           }
          ],
          "contourcarpet": [
           {
            "colorbar": {
             "outlinewidth": 0,
             "ticks": ""
            },
            "type": "contourcarpet"
           }
          ],
          "heatmap": [
           {
            "colorbar": {
             "outlinewidth": 0,
             "ticks": ""
            },
            "colorscale": [
             [
              0,
              "#0d0887"
             ],
             [
              0.1111111111111111,
              "#46039f"
             ],
             [
              0.2222222222222222,
              "#7201a8"
             ],
             [
              0.3333333333333333,
              "#9c179e"
             ],
             [
              0.4444444444444444,
              "#bd3786"
             ],
             [
              0.5555555555555556,
              "#d8576b"
             ],
             [
              0.6666666666666666,
              "#ed7953"
             ],
             [
              0.7777777777777778,
              "#fb9f3a"
             ],
             [
              0.8888888888888888,
              "#fdca26"
             ],
             [
              1,
              "#f0f921"
             ]
            ],
            "type": "heatmap"
           }
          ],
          "heatmapgl": [
           {
            "colorbar": {
             "outlinewidth": 0,
             "ticks": ""
            },
            "colorscale": [
             [
              0,
              "#0d0887"
             ],
             [
              0.1111111111111111,
              "#46039f"
             ],
             [
              0.2222222222222222,
              "#7201a8"
             ],
             [
              0.3333333333333333,
              "#9c179e"
             ],
             [
              0.4444444444444444,
              "#bd3786"
             ],
             [
              0.5555555555555556,
              "#d8576b"
             ],
             [
              0.6666666666666666,
              "#ed7953"
             ],
             [
              0.7777777777777778,
              "#fb9f3a"
             ],
             [
              0.8888888888888888,
              "#fdca26"
             ],
             [
              1,
              "#f0f921"
             ]
            ],
            "type": "heatmapgl"
           }
          ],
          "histogram": [
           {
            "marker": {
             "pattern": {
              "fillmode": "overlay",
              "size": 10,
              "solidity": 0.2
             }
            },
            "type": "histogram"
           }
          ],
          "histogram2d": [
           {
            "colorbar": {
             "outlinewidth": 0,
             "ticks": ""
            },
            "colorscale": [
             [
              0,
              "#0d0887"
             ],
             [
              0.1111111111111111,
              "#46039f"
             ],
             [
              0.2222222222222222,
              "#7201a8"
             ],
             [
              0.3333333333333333,
              "#9c179e"
             ],
             [
              0.4444444444444444,
              "#bd3786"
             ],
             [
              0.5555555555555556,
              "#d8576b"
             ],
             [
              0.6666666666666666,
              "#ed7953"
             ],
             [
              0.7777777777777778,
              "#fb9f3a"
             ],
             [
              0.8888888888888888,
              "#fdca26"
             ],
             [
              1,
              "#f0f921"
             ]
            ],
            "type": "histogram2d"
           }
          ],
          "histogram2dcontour": [
           {
            "colorbar": {
             "outlinewidth": 0,
             "ticks": ""
            },
            "colorscale": [
             [
              0,
              "#0d0887"
             ],
             [
              0.1111111111111111,
              "#46039f"
             ],
             [
              0.2222222222222222,
              "#7201a8"
             ],
             [
              0.3333333333333333,
              "#9c179e"
             ],
             [
              0.4444444444444444,
              "#bd3786"
             ],
             [
              0.5555555555555556,
              "#d8576b"
             ],
             [
              0.6666666666666666,
              "#ed7953"
             ],
             [
              0.7777777777777778,
              "#fb9f3a"
             ],
             [
              0.8888888888888888,
              "#fdca26"
             ],
             [
              1,
              "#f0f921"
             ]
            ],
            "type": "histogram2dcontour"
           }
          ],
          "mesh3d": [
           {
            "colorbar": {
             "outlinewidth": 0,
             "ticks": ""
            },
            "type": "mesh3d"
           }
          ],
          "parcoords": [
           {
            "line": {
             "colorbar": {
              "outlinewidth": 0,
              "ticks": ""
             }
            },
            "type": "parcoords"
           }
          ],
          "pie": [
           {
            "automargin": true,
            "type": "pie"
           }
          ],
          "scatter": [
           {
            "fillpattern": {
             "fillmode": "overlay",
             "size": 10,
             "solidity": 0.2
            },
            "type": "scatter"
           }
          ],
          "scatter3d": [
           {
            "line": {
             "colorbar": {
              "outlinewidth": 0,
              "ticks": ""
             }
            },
            "marker": {
             "colorbar": {
              "outlinewidth": 0,
              "ticks": ""
             }
            },
            "type": "scatter3d"
           }
          ],
          "scattercarpet": [
           {
            "marker": {
             "colorbar": {
              "outlinewidth": 0,
              "ticks": ""
             }
            },
            "type": "scattercarpet"
           }
          ],
          "scattergeo": [
           {
            "marker": {
             "colorbar": {
              "outlinewidth": 0,
              "ticks": ""
             }
            },
            "type": "scattergeo"
           }
          ],
          "scattergl": [
           {
            "marker": {
             "colorbar": {
              "outlinewidth": 0,
              "ticks": ""
             }
            },
            "type": "scattergl"
           }
          ],
          "scattermapbox": [
           {
            "marker": {
             "colorbar": {
              "outlinewidth": 0,
              "ticks": ""
             }
            },
            "type": "scattermapbox"
           }
          ],
          "scatterpolar": [
           {
            "marker": {
             "colorbar": {
              "outlinewidth": 0,
              "ticks": ""
             }
            },
            "type": "scatterpolar"
           }
          ],
          "scatterpolargl": [
           {
            "marker": {
             "colorbar": {
              "outlinewidth": 0,
              "ticks": ""
             }
            },
            "type": "scatterpolargl"
           }
          ],
          "scatterternary": [
           {
            "marker": {
             "colorbar": {
              "outlinewidth": 0,
              "ticks": ""
             }
            },
            "type": "scatterternary"
           }
          ],
          "surface": [
           {
            "colorbar": {
             "outlinewidth": 0,
             "ticks": ""
            },
            "colorscale": [
             [
              0,
              "#0d0887"
             ],
             [
              0.1111111111111111,
              "#46039f"
             ],
             [
              0.2222222222222222,
              "#7201a8"
             ],
             [
              0.3333333333333333,
              "#9c179e"
             ],
             [
              0.4444444444444444,
              "#bd3786"
             ],
             [
              0.5555555555555556,
              "#d8576b"
             ],
             [
              0.6666666666666666,
              "#ed7953"
             ],
             [
              0.7777777777777778,
              "#fb9f3a"
             ],
             [
              0.8888888888888888,
              "#fdca26"
             ],
             [
              1,
              "#f0f921"
             ]
            ],
            "type": "surface"
           }
          ],
          "table": [
           {
            "cells": {
             "fill": {
              "color": "#EBF0F8"
             },
             "line": {
              "color": "white"
             }
            },
            "header": {
             "fill": {
              "color": "#C8D4E3"
             },
             "line": {
              "color": "white"
             }
            },
            "type": "table"
           }
          ]
         },
         "layout": {
          "annotationdefaults": {
           "arrowcolor": "#2a3f5f",
           "arrowhead": 0,
           "arrowwidth": 1
          },
          "autotypenumbers": "strict",
          "coloraxis": {
           "colorbar": {
            "outlinewidth": 0,
            "ticks": ""
           }
          },
          "colorscale": {
           "diverging": [
            [
             0,
             "#8e0152"
            ],
            [
             0.1,
             "#c51b7d"
            ],
            [
             0.2,
             "#de77ae"
            ],
            [
             0.3,
             "#f1b6da"
            ],
            [
             0.4,
             "#fde0ef"
            ],
            [
             0.5,
             "#f7f7f7"
            ],
            [
             0.6,
             "#e6f5d0"
            ],
            [
             0.7,
             "#b8e186"
            ],
            [
             0.8,
             "#7fbc41"
            ],
            [
             0.9,
             "#4d9221"
            ],
            [
             1,
             "#276419"
            ]
           ],
           "sequential": [
            [
             0,
             "#0d0887"
            ],
            [
             0.1111111111111111,
             "#46039f"
            ],
            [
             0.2222222222222222,
             "#7201a8"
            ],
            [
             0.3333333333333333,
             "#9c179e"
            ],
            [
             0.4444444444444444,
             "#bd3786"
            ],
            [
             0.5555555555555556,
             "#d8576b"
            ],
            [
             0.6666666666666666,
             "#ed7953"
            ],
            [
             0.7777777777777778,
             "#fb9f3a"
            ],
            [
             0.8888888888888888,
             "#fdca26"
            ],
            [
             1,
             "#f0f921"
            ]
           ],
           "sequentialminus": [
            [
             0,
             "#0d0887"
            ],
            [
             0.1111111111111111,
             "#46039f"
            ],
            [
             0.2222222222222222,
             "#7201a8"
            ],
            [
             0.3333333333333333,
             "#9c179e"
            ],
            [
             0.4444444444444444,
             "#bd3786"
            ],
            [
             0.5555555555555556,
             "#d8576b"
            ],
            [
             0.6666666666666666,
             "#ed7953"
            ],
            [
             0.7777777777777778,
             "#fb9f3a"
            ],
            [
             0.8888888888888888,
             "#fdca26"
            ],
            [
             1,
             "#f0f921"
            ]
           ]
          },
          "colorway": [
           "#636efa",
           "#EF553B",
           "#00cc96",
           "#ab63fa",
           "#FFA15A",
           "#19d3f3",
           "#FF6692",
           "#B6E880",
           "#FF97FF",
           "#FECB52"
          ],
          "font": {
           "color": "#2a3f5f"
          },
          "geo": {
           "bgcolor": "white",
           "lakecolor": "white",
           "landcolor": "#E5ECF6",
           "showlakes": true,
           "showland": true,
           "subunitcolor": "white"
          },
          "hoverlabel": {
           "align": "left"
          },
          "hovermode": "closest",
          "mapbox": {
           "style": "light"
          },
          "paper_bgcolor": "white",
          "plot_bgcolor": "#E5ECF6",
          "polar": {
           "angularaxis": {
            "gridcolor": "white",
            "linecolor": "white",
            "ticks": ""
           },
           "bgcolor": "#E5ECF6",
           "radialaxis": {
            "gridcolor": "white",
            "linecolor": "white",
            "ticks": ""
           }
          },
          "scene": {
           "xaxis": {
            "backgroundcolor": "#E5ECF6",
            "gridcolor": "white",
            "gridwidth": 2,
            "linecolor": "white",
            "showbackground": true,
            "ticks": "",
            "zerolinecolor": "white"
           },
           "yaxis": {
            "backgroundcolor": "#E5ECF6",
            "gridcolor": "white",
            "gridwidth": 2,
            "linecolor": "white",
            "showbackground": true,
            "ticks": "",
            "zerolinecolor": "white"
           },
           "zaxis": {
            "backgroundcolor": "#E5ECF6",
            "gridcolor": "white",
            "gridwidth": 2,
            "linecolor": "white",
            "showbackground": true,
            "ticks": "",
            "zerolinecolor": "white"
           }
          },
          "shapedefaults": {
           "line": {
            "color": "#2a3f5f"
           }
          },
          "ternary": {
           "aaxis": {
            "gridcolor": "white",
            "linecolor": "white",
            "ticks": ""
           },
           "baxis": {
            "gridcolor": "white",
            "linecolor": "white",
            "ticks": ""
           },
           "bgcolor": "#E5ECF6",
           "caxis": {
            "gridcolor": "white",
            "linecolor": "white",
            "ticks": ""
           }
          },
          "title": {
           "x": 0.05
          },
          "xaxis": {
           "automargin": true,
           "gridcolor": "white",
           "linecolor": "white",
           "ticks": "",
           "title": {
            "standoff": 15
           },
           "zerolinecolor": "white",
           "zerolinewidth": 2
          },
          "yaxis": {
           "automargin": true,
           "gridcolor": "white",
           "linecolor": "white",
           "ticks": "",
           "title": {
            "standoff": 15
           },
           "zerolinecolor": "white",
           "zerolinewidth": 2
          }
         }
        }
       }
      },
      "image/png": "[encoded data removed]",
      "text/html": [
       "<div>                            <div id=\"73981b8b-bbc0-40b6-bf02-a544d343c33f\" class=\"plotly-graph-div\" style=\"height:525px; width:100%;\"></div>            <script type=\"text/javascript\">                require([\"plotly\"], function(Plotly) {                    window.PLOTLYENV=window.PLOTLYENV || {};                                    if (document.getElementById(\"73981b8b-bbc0-40b6-bf02-a544d343c33f\")) {                    Plotly.newPlot(                        \"73981b8b-bbc0-40b6-bf02-a544d343c33f\",                        [{\"domain\":{\"x\":[0.0,1.0],\"y\":[0.0,1.0]},\"hovertemplate\":\"Job Title=%{label}\\u003cbr\\u003e3M=%{value}\\u003cextra\\u003e\\u003c\\u002fextra\\u003e\",\"labels\":[\"Account Director\",\"Account Executive\",\"Account Manager\",\"Accountant\",\"Administrative Assistant\",\"Aerospace Engineer\",\"Architect\",\"Architectural Designer\",\"Art Director\",\"Art Teacher\",\"Back-End Developer\",\"Brand Ambassador\",\"Brand Manager\",\"Business Analyst\",\"Business Development Manager\",\"Chemical Analyst\",\"Chemical Engineer\",\"Civil Engineer\",\"Content Writer\",\"Copywriter\",\"Customer Service Manager\",\"Customer Service Representative\",\"Customer Success Manager\",\"Customer Support Specialist\",\"Data Analyst\",\"Data Engineer\",\"Data Entry Clerk\",\"Data Scientist\",\"Database Administrator\",\"Database Developer\",\"Dental Hygienist\",\"Digital Marketing Specialist\",\"Electrical Designer\",\"Electrical Engineer\",\"Email Marketing Specialist\",\"Environmental Consultant\",\"Environmental Engineer\",\"Event Coordinator\",\"Event Manager\",\"Event Planner\",\"Executive Assistant\",\"Family Lawyer\",\"Family Nurse Practitioner\",\"Finance Manager\",\"Financial Advisor\",\"Financial Analyst\",\"Financial Controller\",\"Financial Planner\",\"Front-End Developer\",\"Front-End Engineer\",\"Graphic Designer\",\"HR Coordinator\",\"HR Generalist\",\"HR Manager\",\"Human Resources Manager\",\"IT Administrator\",\"IT Manager\",\"IT Support Specialist\",\"Interior Designer\",\"Inventory Analyst\",\"Investment Advisor\",\"Investment Analyst\",\"Investment Banker\",\"Java Developer\",\"Key Account Manager\",\"Landscape Architect\",\"Landscape Designer\",\"Legal Advisor\",\"Legal Assistant\",\"Legal Counsel\",\"Legal Secretary\",\"Litigation Attorney\",\"Market Analyst\",\"Market Research Analyst\",\"Marketing Analyst\",\"Marketing Coordinator\",\"Marketing Director\",\"Marketing Manager\",\"Marketing Specialist\",\"Mechanical Designer\",\"Mechanical Engineer\",\"Network Administrator\",\"Network Analyst\",\"Network Engineer\",\"Network Security Specialist\",\"Network Technician\",\"Nurse Manager\",\"Nurse Practitioner\",\"Occupational Therapist\",\"Office Manager\",\"Operations Manager\",\"Paralegal\",\"Pediatrician\",\"Personal Assistant\",\"Pharmaceutical Sales Representative\",\"Physical Therapist\",\"Physician Assistant\",\"Process Engineer\",\"Procurement Coordinator\",\"Procurement Manager\",\"Procurement Specialist\",\"Product Designer\",\"Product Manager\",\"Project Coordinator\",\"Project Manager\",\"Psychologist\",\"Public Relations Specialist\",\"Purchasing Agent\",\"QA Analyst\",\"QA Engineer\",\"Quality Assurance Analyst\",\"Registered Nurse\",\"Research Analyst\",\"Research Scientist\",\"SEM Specialist\",\"SEO Analyst\",\"SEO Specialist\",\"Sales Associate\",\"Sales Consultant\",\"Sales Manager\",\"Sales Representative\",\"Social Media Coordinator\",\"Social Media Manager\",\"Social Worker\",\"Software Architect\",\"Software Developer\",\"Software Engineer\",\"Software Tester\",\"Speech Therapist\",\"Structural Engineer\",\"Substance Abuse Counselor\",\"Supply Chain Analyst\",\"Supply Chain Manager\",\"Systems Administrator\",\"Systems Analyst\",\"Systems Engineer\",\"Tax Consultant\",\"Teacher\",\"Technical Writer\",\"UI Developer\",\"UX Researcher\",\"UX\\u002fUI Designer\",\"Urban Planner\",\"Veterinarian\",\"Web Designer\",\"Web Developer\",\"Wedding Planner\"],\"legendgroup\":\"\",\"name\":\"\",\"showlegend\":true,\"values\":[0.0,0.0,0.0,1.0,0.0,0.0,0.0,0.0,0.0,0.0,0.0,0.0,0.0,0.0,0.0,0.0,0.0,0.0,0.0,0.0,0.0,0.0,0.0,1.0,0.0,0.0,0.0,0.0,0.0,0.0,1.0,0.0,0.0,0.0,0.0,0.0,1.0,0.0,0.0,0.0,0.0,0.0,0.0,0.0,0.0,0.0,0.0,0.0,0.0,0.0,0.0,1.0,0.0,0.0,0.0,0.0,0.0,0.0,0.0,1.0,0.0,2.0,0.0,0.0,0.0,0.0,0.0,1.0,1.0,0.0,0.0,0.0,0.0,0.0,1.0,0.0,0.0,1.0,1.0,0.0,0.0,0.0,0.0,0.0,1.0,0.0,0.0,0.0,0.0,0.0,0.0,0.0,0.0,0.0,0.0,0.0,0.0,0.0,0.0,0.0,0.0,0.0,0.0,0.0,0.0,0.0,0.0,0.0,0.0,0.0,2.0,0.0,0.0,0.0,0.0,0.0,0.0,0.0,0.0,0.0,0.0,0.0,0.0,1.0,1.0,0.0,0.0,0.0,0.0,0.0,0.0,0.0,0.0,0.0,0.0,0.0,0.0,0.0,0.0,0.0,0.0,1.0,0.0,0.0,0.0,0.0,0.0],\"type\":\"pie\"}],                        {\"template\":{\"data\":{\"histogram2dcontour\":[{\"type\":\"histogram2dcontour\",\"colorbar\":{\"outlinewidth\":0,\"ticks\":\"\"},\"colorscale\":[[0.0,\"#0d0887\"],[0.1111111111111111,\"#46039f\"],[0.2222222222222222,\"#7201a8\"],[0.3333333333333333,\"#9c179e\"],[0.4444444444444444,\"#bd3786\"],[0.5555555555555556,\"#d8576b\"],[0.6666666666666666,\"#ed7953\"],[0.7777777777777778,\"#fb9f3a\"],[0.8888888888888888,\"#fdca26\"],[1.0,\"#f0f921\"]]}],\"choropleth\":[{\"type\":\"choropleth\",\"colorbar\":{\"outlinewidth\":0,\"ticks\":\"\"}}],\"histogram2d\":[{\"type\":\"histogram2d\",\"colorbar\":{\"outlinewidth\":0,\"ticks\":\"\"},\"colorscale\":[[0.0,\"#0d0887\"],[0.1111111111111111,\"#46039f\"],[0.2222222222222222,\"#7201a8\"],[0.3333333333333333,\"#9c179e\"],[0.4444444444444444,\"#bd3786\"],[0.5555555555555556,\"#d8576b\"],[0.6666666666666666,\"#ed7953\"],[0.7777777777777778,\"#fb9f3a\"],[0.8888888888888888,\"#fdca26\"],[1.0,\"#f0f921\"]]}],\"heatmap\":[{\"type\":\"heatmap\",\"colorbar\":{\"outlinewidth\":0,\"ticks\":\"\"},\"colorscale\":[[0.0,\"#0d0887\"],[0.1111111111111111,\"#46039f\"],[0.2222222222222222,\"#7201a8\"],[0.3333333333333333,\"#9c179e\"],[0.4444444444444444,\"#bd3786\"],[0.5555555555555556,\"#d8576b\"],[0.6666666666666666,\"#ed7953\"],[0.7777777777777778,\"#fb9f3a\"],[0.8888888888888888,\"#fdca26\"],[1.0,\"#f0f921\"]]}],\"heatmapgl\":[{\"type\":\"heatmapgl\",\"colorbar\":{\"outlinewidth\":0,\"ticks\":\"\"},\"colorscale\":[[0.0,\"#0d0887\"],[0.1111111111111111,\"#46039f\"],[0.2222222222222222,\"#7201a8\"],[0.3333333333333333,\"#9c179e\"],[0.4444444444444444,\"#bd3786\"],[0.5555555555555556,\"#d8576b\"],[0.6666666666666666,\"#ed7953\"],[0.7777777777777778,\"#fb9f3a\"],[0.8888888888888888,\"#fdca26\"],[1.0,\"#f0f921\"]]}],\"contourcarpet\":[{\"type\":\"contourcarpet\",\"colorbar\":{\"outlinewidth\":0,\"ticks\":\"\"}}],\"contour\":[{\"type\":\"contour\",\"colorbar\":{\"outlinewidth\":0,\"ticks\":\"\"},\"colorscale\":[[0.0,\"#0d0887\"],[0.1111111111111111,\"#46039f\"],[0.2222222222222222,\"#7201a8\"],[0.3333333333333333,\"#9c179e\"],[0.4444444444444444,\"#bd3786\"],[0.5555555555555556,\"#d8576b\"],[0.6666666666666666,\"#ed7953\"],[0.7777777777777778,\"#fb9f3a\"],[0.8888888888888888,\"#fdca26\"],[1.0,\"#f0f921\"]]}],\"surface\":[{\"type\":\"surface\",\"colorbar\":{\"outlinewidth\":0,\"ticks\":\"\"},\"colorscale\":[[0.0,\"#0d0887\"],[0.1111111111111111,\"#46039f\"],[0.2222222222222222,\"#7201a8\"],[0.3333333333333333,\"#9c179e\"],[0.4444444444444444,\"#bd3786\"],[0.5555555555555556,\"#d8576b\"],[0.6666666666666666,\"#ed7953\"],[0.7777777777777778,\"#fb9f3a\"],[0.8888888888888888,\"#fdca26\"],[1.0,\"#f0f921\"]]}],\"mesh3d\":[{\"type\":\"mesh3d\",\"colorbar\":{\"outlinewidth\":0,\"ticks\":\"\"}}],\"scatter\":[{\"fillpattern\":{\"fillmode\":\"overlay\",\"size\":10,\"solidity\":0.2},\"type\":\"scatter\"}],\"parcoords\":[{\"type\":\"parcoords\",\"line\":{\"colorbar\":{\"outlinewidth\":0,\"ticks\":\"\"}}}],\"scatterpolargl\":[{\"type\":\"scatterpolargl\",\"marker\":{\"colorbar\":{\"outlinewidth\":0,\"ticks\":\"\"}}}],\"bar\":[{\"error_x\":{\"color\":\"#2a3f5f\"},\"error_y\":{\"color\":\"#2a3f5f\"},\"marker\":{\"line\":{\"color\":\"#E5ECF6\",\"width\":0.5},\"pattern\":{\"fillmode\":\"overlay\",\"size\":10,\"solidity\":0.2}},\"type\":\"bar\"}],\"scattergeo\":[{\"type\":\"scattergeo\",\"marker\":{\"colorbar\":{\"outlinewidth\":0,\"ticks\":\"\"}}}],\"scatterpolar\":[{\"type\":\"scatterpolar\",\"marker\":{\"colorbar\":{\"outlinewidth\":0,\"ticks\":\"\"}}}],\"histogram\":[{\"marker\":{\"pattern\":{\"fillmode\":\"overlay\",\"size\":10,\"solidity\":0.2}},\"type\":\"histogram\"}],\"scattergl\":[{\"type\":\"scattergl\",\"marker\":{\"colorbar\":{\"outlinewidth\":0,\"ticks\":\"\"}}}],\"scatter3d\":[{\"type\":\"scatter3d\",\"line\":{\"colorbar\":{\"outlinewidth\":0,\"ticks\":\"\"}},\"marker\":{\"colorbar\":{\"outlinewidth\":0,\"ticks\":\"\"}}}],\"scattermapbox\":[{\"type\":\"scattermapbox\",\"marker\":{\"colorbar\":{\"outlinewidth\":0,\"ticks\":\"\"}}}],\"scatterternary\":[{\"type\":\"scatterternary\",\"marker\":{\"colorbar\":{\"outlinewidth\":0,\"ticks\":\"\"}}}],\"scattercarpet\":[{\"type\":\"scattercarpet\",\"marker\":{\"colorbar\":{\"outlinewidth\":0,\"ticks\":\"\"}}}],\"carpet\":[{\"aaxis\":{\"endlinecolor\":\"#2a3f5f\",\"gridcolor\":\"white\",\"linecolor\":\"white\",\"minorgridcolor\":\"white\",\"startlinecolor\":\"#2a3f5f\"},\"baxis\":{\"endlinecolor\":\"#2a3f5f\",\"gridcolor\":\"white\",\"linecolor\":\"white\",\"minorgridcolor\":\"white\",\"startlinecolor\":\"#2a3f5f\"},\"type\":\"carpet\"}],\"table\":[{\"cells\":{\"fill\":{\"color\":\"#EBF0F8\"},\"line\":{\"color\":\"white\"}},\"header\":{\"fill\":{\"color\":\"#C8D4E3\"},\"line\":{\"color\":\"white\"}},\"type\":\"table\"}],\"barpolar\":[{\"marker\":{\"line\":{\"color\":\"#E5ECF6\",\"width\":0.5},\"pattern\":{\"fillmode\":\"overlay\",\"size\":10,\"solidity\":0.2}},\"type\":\"barpolar\"}],\"pie\":[{\"automargin\":true,\"type\":\"pie\"}]},\"layout\":{\"autotypenumbers\":\"strict\",\"colorway\":[\"#636efa\",\"#EF553B\",\"#00cc96\",\"#ab63fa\",\"#FFA15A\",\"#19d3f3\",\"#FF6692\",\"#B6E880\",\"#FF97FF\",\"#FECB52\"],\"font\":{\"color\":\"#2a3f5f\"},\"hovermode\":\"closest\",\"hoverlabel\":{\"align\":\"left\"},\"paper_bgcolor\":\"white\",\"plot_bgcolor\":\"#E5ECF6\",\"polar\":{\"bgcolor\":\"#E5ECF6\",\"angularaxis\":{\"gridcolor\":\"white\",\"linecolor\":\"white\",\"ticks\":\"\"},\"radialaxis\":{\"gridcolor\":\"white\",\"linecolor\":\"white\",\"ticks\":\"\"}},\"ternary\":{\"bgcolor\":\"#E5ECF6\",\"aaxis\":{\"gridcolor\":\"white\",\"linecolor\":\"white\",\"ticks\":\"\"},\"baxis\":{\"gridcolor\":\"white\",\"linecolor\":\"white\",\"ticks\":\"\"},\"caxis\":{\"gridcolor\":\"white\",\"linecolor\":\"white\",\"ticks\":\"\"}},\"coloraxis\":{\"colorbar\":{\"outlinewidth\":0,\"ticks\":\"\"}},\"colorscale\":{\"sequential\":[[0.0,\"#0d0887\"],[0.1111111111111111,\"#46039f\"],[0.2222222222222222,\"#7201a8\"],[0.3333333333333333,\"#9c179e\"],[0.4444444444444444,\"#bd3786\"],[0.5555555555555556,\"#d8576b\"],[0.6666666666666666,\"#ed7953\"],[0.7777777777777778,\"#fb9f3a\"],[0.8888888888888888,\"#fdca26\"],[1.0,\"#f0f921\"]],\"sequentialminus\":[[0.0,\"#0d0887\"],[0.1111111111111111,\"#46039f\"],[0.2222222222222222,\"#7201a8\"],[0.3333333333333333,\"#9c179e\"],[0.4444444444444444,\"#bd3786\"],[0.5555555555555556,\"#d8576b\"],[0.6666666666666666,\"#ed7953\"],[0.7777777777777778,\"#fb9f3a\"],[0.8888888888888888,\"#fdca26\"],[1.0,\"#f0f921\"]],\"diverging\":[[0,\"#8e0152\"],[0.1,\"#c51b7d\"],[0.2,\"#de77ae\"],[0.3,\"#f1b6da\"],[0.4,\"#fde0ef\"],[0.5,\"#f7f7f7\"],[0.6,\"#e6f5d0\"],[0.7,\"#b8e186\"],[0.8,\"#7fbc41\"],[0.9,\"#4d9221\"],[1,\"#276419\"]]},\"xaxis\":{\"gridcolor\":\"white\",\"linecolor\":\"white\",\"ticks\":\"\",\"title\":{\"standoff\":15},\"zerolinecolor\":\"white\",\"automargin\":true,\"zerolinewidth\":2},\"yaxis\":{\"gridcolor\":\"white\",\"linecolor\":\"white\",\"ticks\":\"\",\"title\":{\"standoff\":15},\"zerolinecolor\":\"white\",\"automargin\":true,\"zerolinewidth\":2},\"scene\":{\"xaxis\":{\"backgroundcolor\":\"#E5ECF6\",\"gridcolor\":\"white\",\"linecolor\":\"white\",\"showbackground\":true,\"ticks\":\"\",\"zerolinecolor\":\"white\",\"gridwidth\":2},\"yaxis\":{\"backgroundcolor\":\"#E5ECF6\",\"gridcolor\":\"white\",\"linecolor\":\"white\",\"showbackground\":true,\"ticks\":\"\",\"zerolinecolor\":\"white\",\"gridwidth\":2},\"zaxis\":{\"backgroundcolor\":\"#E5ECF6\",\"gridcolor\":\"white\",\"linecolor\":\"white\",\"showbackground\":true,\"ticks\":\"\",\"zerolinecolor\":\"white\",\"gridwidth\":2}},\"shapedefaults\":{\"line\":{\"color\":\"#2a3f5f\"}},\"annotationdefaults\":{\"arrowcolor\":\"#2a3f5f\",\"arrowhead\":0,\"arrowwidth\":1},\"geo\":{\"bgcolor\":\"white\",\"landcolor\":\"#E5ECF6\",\"subunitcolor\":\"white\",\"showland\":true,\"showlakes\":true,\"lakecolor\":\"white\"},\"title\":{\"x\":0.05},\"mapbox\":{\"style\":\"light\"}}},\"legend\":{\"tracegroupgap\":0},\"margin\":{\"t\":60}},                        {\"responsive\": true}                    ).then(function(){\n",
       "                            \n",
       "var gd = document.getElementById('73981b8b-bbc0-40b6-bf02-a544d343c33f');\n",
       "var x = new MutationObserver(function (mutations, observer) {{\n",
       "        var display = window.getComputedStyle(gd).display;\n",
       "        if (!display || display === 'none') {{\n",
       "            console.log([gd, 'removed!']);\n",
       "            Plotly.purge(gd);\n",
       "            observer.disconnect();\n",
       "        }}\n",
       "}});\n",
       "\n",
       "// Listen for the removal of the full notebook cells\n",
       "var notebookContainer = gd.closest('#notebook-container');\n",
       "if (notebookContainer) {{\n",
       "    x.observe(notebookContainer, {childList: true});\n",
       "}}\n",
       "\n",
       "// Listen for the clearing of the current output cell\n",
       "var outputEl = gd.closest('.output');\n",
       "if (outputEl) {{\n",
       "    x.observe(outputEl, {childList: true});\n",
       "}}\n",
       "\n",
       "                        })                };                });            </script>        </div>"
      ]
     },
     "metadata": {},
     "output_type": "display_data"
    }
   ],
   "source": [
    "px.pie(new_df, names='Job Title', values='3M')"
   ]
  },
  {
   "cell_type": "code",
   "execution_count": 193,
   "id": "659baa81-83fc-4813-8399-c345f6efff3f",
   "metadata": {},
   "outputs": [],
   "source": [
    "filtered_df.to_csv('../data/job_csv.csv')"
   ]
  },
  {
   "cell_type": "code",
   "execution_count": 171,
   "id": "6252e387-4bc4-417d-98be-cac6d94d013a",
   "metadata": {},
   "outputs": [
    {
     "data": {
      "text/plain": [
       "np.int64(80)"
      ]
     },
     "execution_count": 171,
     "metadata": {},
     "output_type": "execute_result"
    }
   ],
   "source": [
    "filtered_df['Max Salary'].min()"
   ]
  },
  {
   "cell_type": "code",
   "execution_count": 180,
   "id": "f2a51944-b9dd-43c5-8405-1d24ef68aeb0",
   "metadata": {},
   "outputs": [
    {
     "data": {
      "text/plain": [
       "216"
      ]
     },
     "execution_count": 180,
     "metadata": {},
     "output_type": "execute_result"
    }
   ],
   "source": [
    "len(filtered_df['Country'].unique())"
   ]
  },
  {
   "cell_type": "code",
   "execution_count": 197,
   "id": "7c25c37c-3189-4100-ae9b-ab1822d15ed0",
   "metadata": {},
   "outputs": [],
   "source": [
    "df = filtered_df[(filtered_df['Country']=='USA') & (filtered_df['Work Type']==\"Full-Time\")]"
   ]
  },
  {
   "cell_type": "code",
   "execution_count": 201,
   "id": "1cb8e0d3-6bd2-479d-b286-6485c53eeb58",
   "metadata": {},
   "outputs": [
    {
     "data": {
      "text/plain": [
       "6242     False\n",
       "7560     False\n",
       "13345    False\n",
       "15550    False\n",
       "17547    False\n",
       "17920    False\n",
       "18580    False\n",
       "22932    False\n",
       "35223    False\n",
       "35667    False\n",
       "38914    False\n",
       "41089    False\n",
       "41404    False\n",
       "41513    False\n",
       "41770    False\n",
       "dtype: bool"
      ]
     },
     "execution_count": 201,
     "metadata": {},
     "output_type": "execute_result"
    }
   ],
   "source": [
    "(df['Max Salary'] < 80000) & (df['Min Salary'] > 55000)"
   ]
  },
  {
   "cell_type": "code",
   "execution_count": 211,
   "id": "c8e55e06-0257-4b25-8339-8b5e82eb0b77",
   "metadata": {},
   "outputs": [
    {
     "data": {
      "text/plain": [
       "6242     False\n",
       "7560      True\n",
       "13345    False\n",
       "15550     True\n",
       "17547     True\n",
       "17920    False\n",
       "18580     True\n",
       "22932     True\n",
       "35223    False\n",
       "35667     True\n",
       "38914    False\n",
       "41089     True\n",
       "41404     True\n",
       "41513     True\n",
       "41770    False\n",
       "dtype: bool"
      ]
     },
     "execution_count": 211,
     "metadata": {},
     "output_type": "execute_result"
    }
   ],
   "source": [
    "(df['Min Salary']>50) & (df['Max Salary']<110)"
   ]
  },
  {
   "cell_type": "code",
   "execution_count": null,
   "id": "f25118a8-ee8e-4f65-ad6d-ed8d5c240dfc",
   "metadata": {},
   "outputs": [],
   "source": []
  }
 ],
 "metadata": {
  "kernelspec": {
   "display_name": "Python 3 (ipykernel)",
   "language": "python",
   "name": "python3"
  },
  "language_info": {
   "codemirror_mode": {
    "name": "ipython",
    "version": 3
   },
   "file_extension": ".py",
   "mimetype": "text/x-python",
   "name": "python",
   "nbconvert_exporter": "python",
   "pygments_lexer": "ipython3",
   "version": "3.11.11"
  }
 },
 "nbformat": 4,
 "nbformat_minor": 5
}
